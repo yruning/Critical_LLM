{
 "cells": [
  {
   "cell_type": "code",
   "execution_count": 1,
   "id": "c1e4177d-b0cc-49d1-bd90-6659a18e29b8",
   "metadata": {},
   "outputs": [],
   "source": [
    "import os\n",
    "os.environ[\"CUDA_DEVICE_ORDER\"]=\"PCI_BUS_ID\"   # see issue #152\n",
    "os.environ[\"CUDA_VISIBLE_DEVICES\"]=\"0,1,2,3,4,5,6,7\""
   ]
  },
  {
   "cell_type": "code",
   "execution_count": 2,
   "id": "ac41730a-209d-407b-8cae-3e52e1b8e09e",
   "metadata": {},
   "outputs": [],
   "source": [
    "os.environ[\"NCCL_P2P_DISABLE\"] = \"1\"\n"
   ]
  },
  {
   "cell_type": "code",
   "execution_count": 3,
   "id": "42079439-a5d2-42a1-a90a-5c8353d3201e",
   "metadata": {},
   "outputs": [],
   "source": [
    "os.environ['VLLM_WORKER_MULTIPROC_METHOD'] = 'spawn'"
   ]
  },
  {
   "cell_type": "code",
   "execution_count": 4,
   "id": "839ad093-1f67-4e19-88e2-2f654e950e12",
   "metadata": {},
   "outputs": [],
   "source": [
    "os.environ[\"VLLM_USE_V1\"] = \"1\"\n"
   ]
  },
  {
   "cell_type": "code",
   "execution_count": 5,
   "id": "dc97a97f-ff99-434f-aaf4-f315a6b4d363",
   "metadata": {},
   "outputs": [
    {
     "name": "stdout",
     "output_type": "stream",
     "text": [
      "INFO 05-24 15:44:47 [__init__.py:239] Automatically detected platform cuda.\n"
     ]
    }
   ],
   "source": [
    "import vllm\n",
    "from vllm import LLM, SamplingParams\n",
    "import pickle\n",
    "import time\n",
    "import os\n",
    "import numpy as np\n",
    "import json"
   ]
  },
  {
   "cell_type": "code",
   "execution_count": 6,
   "id": "a688cb62-5042-4f3b-a0c8-e8a525f73d9d",
   "metadata": {},
   "outputs": [],
   "source": [
    "model_id = \"/data/just/models/qwen3_30b_a3b\""
   ]
  },
  {
   "cell_type": "code",
   "execution_count": 7,
   "id": "758fe977-72cf-4a4a-8f1e-d622f16c36e8",
   "metadata": {},
   "outputs": [],
   "source": [
    "default_params = {\n",
    "    #     \"trust_remote_code\": True,\n",
    "    #     \"tensor_parallel_size\": len(os.environ[\"CUDA_VISIBLE_DEVICES\"].split(\",\")), libcuda.so.1\n",
    "        \"gpu_memory_utilization\": 0.9,\n",
    "        # \"dtype\": 'bfloat16',\n",
    "        'max_model_len': 32000,\n",
    "        'tensor_parallel_size' : len(os.environ[\"CUDA_VISIBLE_DEVICES\"].split(\",\"))\n",
    "    }"
   ]
  },
  {
   "cell_type": "code",
   "execution_count": 8,
   "id": "a628537b-488c-4ea8-818b-4642a1ebb9f9",
   "metadata": {
    "scrolled": true
   },
   "outputs": [
    {
     "name": "stdout",
     "output_type": "stream",
     "text": [
      "INFO 05-24 15:44:52 [config.py:2968] Downcasting torch.float32 to torch.float16.\n",
      "INFO 05-24 15:44:58 [config.py:717] This model supports multiple tasks: {'classify', 'score', 'generate', 'reward', 'embed'}. Defaulting to 'generate'.\n",
      "INFO 05-24 15:44:58 [config.py:1770] Defaulting to use mp for distributed inference\n",
      "INFO 05-24 15:44:58 [config.py:2003] Chunked prefill is enabled with max_num_batched_tokens=8192.\n",
      "INFO 05-24 15:45:01 [__init__.py:239] Automatically detected platform cuda.\n",
      "INFO 05-24 15:45:04 [core.py:58] Initializing a V1 LLM engine (v0.8.5.post1) with config: model='/data/just/models/qwen3_30b_a3b', speculative_config=None, tokenizer='/data/just/models/qwen3_30b_a3b', skip_tokenizer_init=False, tokenizer_mode=auto, revision=None, override_neuron_config=None, tokenizer_revision=None, trust_remote_code=False, dtype=torch.float16, max_seq_len=32000, download_dir=None, load_format=auto, tensor_parallel_size=8, pipeline_parallel_size=1, disable_custom_all_reduce=False, quantization=None, enforce_eager=False, kv_cache_dtype=auto,  device_config=cuda, decoding_config=DecodingConfig(guided_decoding_backend='auto', reasoning_backend=None), observability_config=ObservabilityConfig(show_hidden_metrics=False, otlp_traces_endpoint=None, collect_model_forward_time=False, collect_model_execute_time=False), seed=None, served_model_name=/data/just/models/qwen3_30b_a3b, num_scheduler_steps=1, multi_step_stream_outputs=True, enable_prefix_caching=True, chunked_prefill_enabled=True, use_async_output_proc=True, disable_mm_preprocessor_cache=False, mm_processor_kwargs=None, pooler_config=None, compilation_config={\"level\":3,\"custom_ops\":[\"none\"],\"splitting_ops\":[\"vllm.unified_attention\",\"vllm.unified_attention_with_output\"],\"use_inductor\":true,\"compile_sizes\":[],\"use_cudagraph\":true,\"cudagraph_num_of_warmups\":1,\"cudagraph_capture_sizes\":[512,504,496,488,480,472,464,456,448,440,432,424,416,408,400,392,384,376,368,360,352,344,336,328,320,312,304,296,288,280,272,264,256,248,240,232,224,216,208,200,192,184,176,168,160,152,144,136,128,120,112,104,96,88,80,72,64,56,48,40,32,24,16,8,4,2,1],\"max_capture_size\":512}\n",
      "WARNING 05-24 15:45:04 [multiproc_worker_utils.py:306] Reducing Torch parallelism from 128 threads to 1 to avoid unnecessary CPU contention. Set OMP_NUM_THREADS in the external environment to tune this value as needed.\n",
      "INFO 05-24 15:45:04 [shm_broadcast.py:266] vLLM message queue communication handle: Handle(local_reader_ranks=[0, 1, 2, 3, 4, 5, 6, 7], buffer_handle=(8, 10485760, 10, 'psm_13519812'), local_subscribe_addr='ipc:///tmp/83c21bfd-a42f-4201-a05d-c9d71e88d2ed', remote_subscribe_addr=None, remote_addr_ipv6=False)\n",
      "INFO 05-24 15:45:07 [__init__.py:239] Automatically detected platform cuda.\n",
      "INFO 05-24 15:45:07 [__init__.py:239] Automatically detected platform cuda.\n",
      "INFO 05-24 15:45:07 [__init__.py:239] Automatically detected platform cuda.\n",
      "INFO 05-24 15:45:07 [__init__.py:239] Automatically detected platform cuda.\n",
      "INFO 05-24 15:45:07 [__init__.py:239] Automatically detected platform cuda.\n",
      "INFO 05-24 15:45:07 [__init__.py:239] Automatically detected platform cuda.\n",
      "INFO 05-24 15:45:07 [__init__.py:239] Automatically detected platform cuda.\n",
      "INFO 05-24 15:45:07 [__init__.py:239] Automatically detected platform cuda.\n",
      "WARNING 05-24 15:45:09 [utils.py:2522] Methods determine_num_available_blocks,device_config,get_cache_block_size_bytes,initialize_cache not implemented in <vllm.v1.worker.gpu_worker.Worker object at 0x7f078bcfb910>\n",
      "WARNING 05-24 15:45:09 [utils.py:2522] Methods determine_num_available_blocks,device_config,get_cache_block_size_bytes,initialize_cache not implemented in <vllm.v1.worker.gpu_worker.Worker object at 0x7f3878b4b910>\n",
      "WARNING 05-24 15:45:09 [utils.py:2522] Methods determine_num_available_blocks,device_config,get_cache_block_size_bytes,initialize_cache not implemented in <vllm.v1.worker.gpu_worker.Worker object at 0x70a84fc37700>\n",
      "\u001b[1;36m(VllmWorker rank=5 pid=1189800)\u001b[0;0m INFO 05-24 15:45:09 [shm_broadcast.py:266] vLLM message queue communication handle: Handle(local_reader_ranks=[0], buffer_handle=(1, 10485760, 10, 'psm_e5170634'), local_subscribe_addr='ipc:///tmp/35838d88-bd40-41cf-ba14-c91bd486b838', remote_subscribe_addr=None, remote_addr_ipv6=False)\n",
      "\u001b[1;36m(VllmWorker rank=4 pid=1189799)\u001b[0;0m INFO 05-24 15:45:09 [shm_broadcast.py:266] vLLM message queue communication handle: Handle(local_reader_ranks=[0], buffer_handle=(1, 10485760, 10, 'psm_4a1ba8a8'), local_subscribe_addr='ipc:///tmp/44a4eefb-79aa-4976-9568-044145ce0ab1', remote_subscribe_addr=None, remote_addr_ipv6=False)\n",
      "\u001b[1;36m(VllmWorker rank=2 pid=1189797)\u001b[0;0m INFO 05-24 15:45:09 [shm_broadcast.py:266] vLLM message queue communication handle: Handle(local_reader_ranks=[0], buffer_handle=(1, 10485760, 10, 'psm_0e9302c4'), local_subscribe_addr='ipc:///tmp/1bc166dd-e52e-4e56-a899-b38d97d037f9', remote_subscribe_addr=None, remote_addr_ipv6=False)\n",
      "WARNING 05-24 15:45:09 [utils.py:2522] Methods determine_num_available_blocks,device_config,get_cache_block_size_bytes,initialize_cache not implemented in <vllm.v1.worker.gpu_worker.Worker object at 0x7dfd422fb940>\n",
      "\u001b[1;36m(VllmWorker rank=0 pid=1189795)\u001b[0;0m INFO 05-24 15:45:09 [shm_broadcast.py:266] vLLM message queue communication handle: Handle(local_reader_ranks=[0], buffer_handle=(1, 10485760, 10, 'psm_6ef30f40'), local_subscribe_addr='ipc:///tmp/e77e2c74-7c1f-4c42-b9ce-313bd433a392', remote_subscribe_addr=None, remote_addr_ipv6=False)\n",
      "WARNING 05-24 15:45:09 [utils.py:2522] Methods determine_num_available_blocks,device_config,get_cache_block_size_bytes,initialize_cache not implemented in <vllm.v1.worker.gpu_worker.Worker object at 0x7bd5b5c37700>\n",
      "\u001b[1;36m(VllmWorker rank=1 pid=1189796)\u001b[0;0m INFO 05-24 15:45:09 [shm_broadcast.py:266] vLLM message queue communication handle: Handle(local_reader_ranks=[0], buffer_handle=(1, 10485760, 10, 'psm_a1d187d1'), local_subscribe_addr='ipc:///tmp/9aa0d937-5f67-4e3f-94ad-654532e8c599', remote_subscribe_addr=None, remote_addr_ipv6=False)\n",
      "WARNING 05-24 15:45:09 [utils.py:2522] Methods determine_num_available_blocks,device_config,get_cache_block_size_bytes,initialize_cache not implemented in <vllm.v1.worker.gpu_worker.Worker object at 0x7a533ac3b8e0>\n",
      "\u001b[1;36m(VllmWorker rank=3 pid=1189798)\u001b[0;0m INFO 05-24 15:45:09 [shm_broadcast.py:266] vLLM message queue communication handle: Handle(local_reader_ranks=[0], buffer_handle=(1, 10485760, 10, 'psm_0f8cdce8'), local_subscribe_addr='ipc:///tmp/fd8a333b-7033-4fc2-82d4-83ffbd12ea38', remote_subscribe_addr=None, remote_addr_ipv6=False)\n",
      "WARNING 05-24 15:45:09 [utils.py:2522] Methods determine_num_available_blocks,device_config,get_cache_block_size_bytes,initialize_cache not implemented in <vllm.v1.worker.gpu_worker.Worker object at 0x7716bf5eb8b0>\n",
      "\u001b[1;36m(VllmWorker rank=7 pid=1189802)\u001b[0;0m INFO 05-24 15:45:09 [shm_broadcast.py:266] vLLM message queue communication handle: Handle(local_reader_ranks=[0], buffer_handle=(1, 10485760, 10, 'psm_2efc6bc0'), local_subscribe_addr='ipc:///tmp/b0828b12-81a2-4bd2-967e-c831c2e8d01e', remote_subscribe_addr=None, remote_addr_ipv6=False)\n",
      "WARNING 05-24 15:45:10 [utils.py:2522] Methods determine_num_available_blocks,device_config,get_cache_block_size_bytes,initialize_cache not implemented in <vllm.v1.worker.gpu_worker.Worker object at 0x70c3ad1e76a0>\n",
      "\u001b[1;36m(VllmWorker rank=6 pid=1189801)\u001b[0;0m INFO 05-24 15:45:10 [shm_broadcast.py:266] vLLM message queue communication handle: Handle(local_reader_ranks=[0], buffer_handle=(1, 10485760, 10, 'psm_ffe07e7f'), local_subscribe_addr='ipc:///tmp/25101544-cacd-4688-9013-38edebb3bbb1', remote_subscribe_addr=None, remote_addr_ipv6=False)\n",
      "\u001b[1;36m(VllmWorker rank=5 pid=1189800)\u001b[0;0m INFO 05-24 15:45:11 [utils.py:1055] Found nccl from library libnccl.so.2\n",
      "\u001b[1;36m(VllmWorker rank=2 pid=1189797)\u001b[0;0m INFO 05-24 15:45:11 [utils.py:1055] Found nccl from library libnccl.so.2\n",
      "\u001b[1;36m(VllmWorker rank=1 pid=1189796)\u001b[0;0m INFO 05-24 15:45:11 [utils.py:1055] Found nccl from library libnccl.so.2\n",
      "\u001b[1;36m(VllmWorker rank=4 pid=1189799)\u001b[0;0m INFO 05-24 15:45:11 [utils.py:1055] Found nccl from library libnccl.so.2\n",
      "\u001b[1;36m(VllmWorker rank=0 pid=1189795)\u001b[0;0m INFO 05-24 15:45:11 [utils.py:1055] Found nccl from library libnccl.so.2\n",
      "\u001b[1;36m(VllmWorker rank=5 pid=1189800)\u001b[0;0m INFO 05-24 15:45:11 [pynccl.py:69] vLLM is using nccl==2.21.5\n",
      "\u001b[1;36m(VllmWorker rank=2 pid=1189797)\u001b[0;0m INFO 05-24 15:45:11 [pynccl.py:69] vLLM is using nccl==2.21.5\n",
      "\u001b[1;36m(VllmWorker rank=4 pid=1189799)\u001b[0;0m INFO 05-24 15:45:11 [pynccl.py:69] vLLM is using nccl==2.21.5\n",
      "\u001b[1;36m(VllmWorker rank=7 pid=1189802)\u001b[0;0m INFO 05-24 15:45:11 [utils.py:1055] Found nccl from library libnccl.so.2\n",
      "\u001b[1;36m(VllmWorker rank=1 pid=1189796)\u001b[0;0m INFO 05-24 15:45:11 [pynccl.py:69] vLLM is using nccl==2.21.5\n",
      "\u001b[1;36m(VllmWorker rank=3 pid=1189798)\u001b[0;0m INFO 05-24 15:45:11 [utils.py:1055] Found nccl from library libnccl.so.2\n",
      "\u001b[1;36m(VllmWorker rank=0 pid=1189795)\u001b[0;0m INFO 05-24 15:45:11 [pynccl.py:69] vLLM is using nccl==2.21.5\n",
      "\u001b[1;36m(VllmWorker rank=7 pid=1189802)\u001b[0;0m INFO 05-24 15:45:11 [pynccl.py:69] vLLM is using nccl==2.21.5\n",
      "\u001b[1;36m(VllmWorker rank=3 pid=1189798)\u001b[0;0m INFO 05-24 15:45:11 [pynccl.py:69] vLLM is using nccl==2.21.5\n",
      "\u001b[1;36m(VllmWorker rank=6 pid=1189801)\u001b[0;0m INFO 05-24 15:45:11 [utils.py:1055] Found nccl from library libnccl.so.2\n",
      "\u001b[1;36m(VllmWorker rank=6 pid=1189801)\u001b[0;0m INFO 05-24 15:45:11 [pynccl.py:69] vLLM is using nccl==2.21.5\n",
      "\u001b[1;36m(VllmWorker rank=6 pid=1189801)\u001b[0;0m WARNING 05-24 15:45:12 [custom_all_reduce.py:136] Custom allreduce is disabled because it's not supported on more than two PCIe-only GPUs. To silence this warning, specify disable_custom_all_reduce=True explicitly.\n",
      "\u001b[1;36m(VllmWorker rank=0 pid=1189795)\u001b[0;0m WARNING 05-24 15:45:12 [custom_all_reduce.py:136] Custom allreduce is disabled because it's not supported on more than two PCIe-only GPUs. To silence this warning, specify disable_custom_all_reduce=True explicitly.\n",
      "\u001b[1;36m(VllmWorker rank=5 pid=1189800)\u001b[0;0m WARNING 05-24 15:45:12 [custom_all_reduce.py:136] Custom allreduce is disabled because it's not supported on more than two PCIe-only GPUs. To silence this warning, specify disable_custom_all_reduce=True explicitly.\n",
      "\u001b[1;36m(VllmWorker rank=7 pid=1189802)\u001b[0;0m WARNING 05-24 15:45:12 [custom_all_reduce.py:136] Custom allreduce is disabled because it's not supported on more than two PCIe-only GPUs. To silence this warning, specify disable_custom_all_reduce=True explicitly.\n",
      "\u001b[1;36m(VllmWorker rank=4 pid=1189799)\u001b[0;0m WARNING 05-24 15:45:12 [custom_all_reduce.py:136] Custom allreduce is disabled because it's not supported on more than two PCIe-only GPUs. To silence this warning, specify disable_custom_all_reduce=True explicitly.\n",
      "\u001b[1;36m(VllmWorker rank=2 pid=1189797)\u001b[0;0m WARNING 05-24 15:45:12 [custom_all_reduce.py:136] Custom allreduce is disabled because it's not supported on more than two PCIe-only GPUs. To silence this warning, specify disable_custom_all_reduce=True explicitly.\n",
      "\u001b[1;36m(VllmWorker rank=3 pid=1189798)\u001b[0;0m WARNING 05-24 15:45:12 [custom_all_reduce.py:136] Custom allreduce is disabled because it's not supported on more than two PCIe-only GPUs. To silence this warning, specify disable_custom_all_reduce=True explicitly.\n",
      "\u001b[1;36m(VllmWorker rank=1 pid=1189796)\u001b[0;0m WARNING 05-24 15:45:12 [custom_all_reduce.py:136] Custom allreduce is disabled because it's not supported on more than two PCIe-only GPUs. To silence this warning, specify disable_custom_all_reduce=True explicitly.\n",
      "\u001b[1;36m(VllmWorker rank=0 pid=1189795)\u001b[0;0m INFO 05-24 15:45:12 [shm_broadcast.py:266] vLLM message queue communication handle: Handle(local_reader_ranks=[1, 2, 3, 4, 5, 6, 7], buffer_handle=(7, 4194304, 6, 'psm_f69969c8'), local_subscribe_addr='ipc:///tmp/a2f90148-6a6c-40aa-ba29-fd2769536bf7', remote_subscribe_addr=None, remote_addr_ipv6=False)\n",
      "\u001b[1;36m(VllmWorker rank=7 pid=1189802)\u001b[0;0m INFO 05-24 15:45:12 [parallel_state.py:1004] rank 7 in world size 8 is assigned as DP rank 0, PP rank 0, TP rank 7\n",
      "\u001b[1;36m(VllmWorker rank=4 pid=1189799)\u001b[0;0m INFO 05-24 15:45:12 [parallel_state.py:1004] rank 4 in world size 8 is assigned as DP rank 0, PP rank 0, TP rank 4\n",
      "\u001b[1;36m(VllmWorker rank=5 pid=1189800)\u001b[0;0m INFO 05-24 15:45:12 [parallel_state.py:1004] rank 5 in world size 8 is assigned as DP rank 0, PP rank 0, TP rank 5\n",
      "\u001b[1;36m(VllmWorker rank=0 pid=1189795)\u001b[0;0m INFO 05-24 15:45:12 [parallel_state.py:1004] rank 0 in world size 8 is assigned as DP rank 0, PP rank 0, TP rank 0\n",
      "\u001b[1;36m(VllmWorker rank=6 pid=1189801)\u001b[0;0m INFO 05-24 15:45:12 [parallel_state.py:1004] rank 6 in world size 8 is assigned as DP rank 0, PP rank 0, TP rank 6\n",
      "\u001b[1;36m(VllmWorker rank=3 pid=1189798)\u001b[0;0m INFO 05-24 15:45:12 [parallel_state.py:1004] rank 3 in world size 8 is assigned as DP rank 0, PP rank 0, TP rank 3\n",
      "\u001b[1;36m(VllmWorker rank=2 pid=1189797)\u001b[0;0m INFO 05-24 15:45:12 [parallel_state.py:1004] rank 2 in world size 8 is assigned as DP rank 0, PP rank 0, TP rank 2\n",
      "\u001b[1;36m(VllmWorker rank=7 pid=1189802)\u001b[0;0m INFO 05-24 15:45:12 [cuda.py:221] Using Flash Attention backend on V1 engine.\n",
      "\u001b[1;36m(VllmWorker rank=4 pid=1189799)\u001b[0;0m INFO 05-24 15:45:12 [cuda.py:221] Using Flash Attention backend on V1 engine.\n",
      "\u001b[1;36m(VllmWorker rank=5 pid=1189800)\u001b[0;0m INFO 05-24 15:45:12 [cuda.py:221] Using Flash Attention backend on V1 engine.\n",
      "\u001b[1;36m(VllmWorker rank=0 pid=1189795)\u001b[0;0m INFO 05-24 15:45:12 [cuda.py:221] Using Flash Attention backend on V1 engine.\n",
      "\u001b[1;36m(VllmWorker rank=1 pid=1189796)\u001b[0;0m INFO 05-24 15:45:12 [parallel_state.py:1004] rank 1 in world size 8 is assigned as DP rank 0, PP rank 0, TP rank 1\n",
      "\u001b[1;36m(VllmWorker rank=7 pid=1189802)\u001b[0;0m WARNING 05-24 15:45:12 [topk_topp_sampler.py:69] FlashInfer is not available. Falling back to the PyTorch-native implementation of top-p & top-k sampling. For the best performance, please install FlashInfer.\n",
      "\u001b[1;36m(VllmWorker rank=2 pid=1189797)\u001b[0;0m INFO 05-24 15:45:12 [cuda.py:221] Using Flash Attention backend on V1 engine.\n",
      "\u001b[1;36m(VllmWorker rank=4 pid=1189799)\u001b[0;0m WARNING 05-24 15:45:12 [topk_topp_sampler.py:69] FlashInfer is not available. Falling back to the PyTorch-native implementation of top-p & top-k sampling. For the best performance, please install FlashInfer.\n",
      "\u001b[1;36m(VllmWorker rank=5 pid=1189800)\u001b[0;0m WARNING 05-24 15:45:12 [topk_topp_sampler.py:69] FlashInfer is not available. Falling back to the PyTorch-native implementation of top-p & top-k sampling. For the best performance, please install FlashInfer.\n",
      "\u001b[1;36m(VllmWorker rank=0 pid=1189795)\u001b[0;0m WARNING 05-24 15:45:12 [topk_topp_sampler.py:69] FlashInfer is not available. Falling back to the PyTorch-native implementation of top-p & top-k sampling. For the best performance, please install FlashInfer.\n",
      "\u001b[1;36m(VllmWorker rank=6 pid=1189801)\u001b[0;0m INFO 05-24 15:45:12 [cuda.py:221] Using Flash Attention backend on V1 engine.\n",
      "\u001b[1;36m(VllmWorker rank=2 pid=1189797)\u001b[0;0m WARNING 05-24 15:45:12 [topk_topp_sampler.py:69] FlashInfer is not available. Falling back to the PyTorch-native implementation of top-p & top-k sampling. For the best performance, please install FlashInfer.\n",
      "\u001b[1;36m(VllmWorker rank=3 pid=1189798)\u001b[0;0m INFO 05-24 15:45:12 [cuda.py:221] Using Flash Attention backend on V1 engine.\n",
      "\u001b[1;36m(VllmWorker rank=6 pid=1189801)\u001b[0;0m WARNING 05-24 15:45:12 [topk_topp_sampler.py:69] FlashInfer is not available. Falling back to the PyTorch-native implementation of top-p & top-k sampling. For the best performance, please install FlashInfer.\n",
      "\u001b[1;36m(VllmWorker rank=3 pid=1189798)\u001b[0;0m WARNING 05-24 15:45:12 [topk_topp_sampler.py:69] FlashInfer is not available. Falling back to the PyTorch-native implementation of top-p & top-k sampling. For the best performance, please install FlashInfer.\n",
      "\u001b[1;36m(VllmWorker rank=1 pid=1189796)\u001b[0;0m INFO 05-24 15:45:12 [cuda.py:221] Using Flash Attention backend on V1 engine.\n",
      "\u001b[1;36m(VllmWorker rank=1 pid=1189796)\u001b[0;0m WARNING 05-24 15:45:12 [topk_topp_sampler.py:69] FlashInfer is not available. Falling back to the PyTorch-native implementation of top-p & top-k sampling. For the best performance, please install FlashInfer.\n",
      "\u001b[1;36m(VllmWorker rank=5 pid=1189800)\u001b[0;0m INFO 05-24 15:45:12 [gpu_model_runner.py:1329] Starting to load model /data/just/models/qwen3_30b_a3b...\n",
      "\u001b[1;36m(VllmWorker rank=4 pid=1189799)\u001b[0;0m INFO 05-24 15:45:12 [gpu_model_runner.py:1329] Starting to load model /data/just/models/qwen3_30b_a3b...\n",
      "\u001b[1;36m(VllmWorker rank=7 pid=1189802)\u001b[0;0m INFO 05-24 15:45:12 [gpu_model_runner.py:1329] Starting to load model /data/just/models/qwen3_30b_a3b...\n",
      "\u001b[1;36m(VllmWorker rank=2 pid=1189797)\u001b[0;0m INFO 05-24 15:45:12 [gpu_model_runner.py:1329] Starting to load model /data/just/models/qwen3_30b_a3b...\n",
      "\u001b[1;36m(VllmWorker rank=3 pid=1189798)\u001b[0;0m INFO 05-24 15:45:12 [gpu_model_runner.py:1329] Starting to load model /data/just/models/qwen3_30b_a3b...\n",
      "\u001b[1;36m(VllmWorker rank=6 pid=1189801)\u001b[0;0m INFO 05-24 15:45:12 [gpu_model_runner.py:1329] Starting to load model /data/just/models/qwen3_30b_a3b...\n",
      "\u001b[1;36m(VllmWorker rank=1 pid=1189796)\u001b[0;0m INFO 05-24 15:45:12 [gpu_model_runner.py:1329] Starting to load model /data/just/models/qwen3_30b_a3b...\n",
      "\u001b[1;36m(VllmWorker rank=0 pid=1189795)\u001b[0;0m INFO 05-24 15:45:12 [gpu_model_runner.py:1329] Starting to load model /data/just/models/qwen3_30b_a3b...\n"
     ]
    },
    {
     "name": "stderr",
     "output_type": "stream",
     "text": [
      "Loading safetensors checkpoint shards:   0% Completed | 0/25 [00:00<?, ?it/s]\n",
      "Loading safetensors checkpoint shards:   4% Completed | 1/25 [00:00<00:07,  3.36it/s]\n",
      "Loading safetensors checkpoint shards:   8% Completed | 2/25 [00:00<00:07,  3.08it/s]\n",
      "Loading safetensors checkpoint shards:  12% Completed | 3/25 [00:01<00:07,  2.82it/s]\n",
      "Loading safetensors checkpoint shards:  16% Completed | 4/25 [00:01<00:07,  2.82it/s]\n",
      "Loading safetensors checkpoint shards:  20% Completed | 5/25 [00:01<00:06,  2.94it/s]\n",
      "Loading safetensors checkpoint shards:  24% Completed | 6/25 [00:02<00:06,  3.01it/s]\n",
      "Loading safetensors checkpoint shards:  28% Completed | 7/25 [00:02<00:06,  2.88it/s]\n",
      "Loading safetensors checkpoint shards:  32% Completed | 8/25 [00:02<00:06,  2.76it/s]\n",
      "Loading safetensors checkpoint shards:  36% Completed | 9/25 [00:03<00:05,  2.73it/s]\n",
      "Loading safetensors checkpoint shards:  40% Completed | 10/25 [00:03<00:05,  2.66it/s]\n",
      "Loading safetensors checkpoint shards:  44% Completed | 11/25 [00:03<00:05,  2.55it/s]\n",
      "Loading safetensors checkpoint shards:  48% Completed | 12/25 [00:04<00:04,  2.67it/s]\n",
      "Loading safetensors checkpoint shards:  52% Completed | 13/25 [00:08<00:18,  1.55s/it]\n",
      "Loading safetensors checkpoint shards:  56% Completed | 14/25 [00:12<00:25,  2.29s/it]\n",
      "Loading safetensors checkpoint shards:  60% Completed | 15/25 [00:15<00:25,  2.59s/it]\n",
      "Loading safetensors checkpoint shards:  64% Completed | 16/25 [00:16<00:17,  1.92s/it]\n",
      "Loading safetensors checkpoint shards:  68% Completed | 17/25 [00:16<00:11,  1.46s/it]\n",
      "Loading safetensors checkpoint shards:  72% Completed | 18/25 [00:20<00:15,  2.19s/it]\n",
      "Loading safetensors checkpoint shards:  76% Completed | 19/25 [00:20<00:09,  1.64s/it]\n",
      "Loading safetensors checkpoint shards:  80% Completed | 20/25 [00:21<00:06,  1.27s/it]\n",
      "Loading safetensors checkpoint shards:  84% Completed | 21/25 [00:25<00:08,  2.17s/it]\n",
      "Loading safetensors checkpoint shards:  88% Completed | 22/25 [00:27<00:06,  2.05s/it]\n",
      "Loading safetensors checkpoint shards:  92% Completed | 23/25 [00:27<00:03,  1.55s/it]\n",
      "Loading safetensors checkpoint shards:  96% Completed | 24/25 [00:28<00:01,  1.20s/it]\n",
      "Loading safetensors checkpoint shards: 100% Completed | 25/25 [00:28<00:00,  1.12it/s]\n",
      "Loading safetensors checkpoint shards: 100% Completed | 25/25 [00:28<00:00,  1.13s/it]\n",
      "\u001b[1;36m(VllmWorker rank=0 pid=1189795)\u001b[0;0m \n"
     ]
    },
    {
     "name": "stdout",
     "output_type": "stream",
     "text": [
      "\u001b[1;36m(VllmWorker rank=5 pid=1189800)\u001b[0;0m INFO 05-24 15:45:41 [loader.py:458] Loading weights took 28.27 seconds\n",
      "\u001b[1;36m(VllmWorker rank=4 pid=1189799)\u001b[0;0m INFO 05-24 15:45:41 [loader.py:458] Loading weights took 28.29 seconds\n",
      "\u001b[1;36m(VllmWorker rank=0 pid=1189795)\u001b[0;0m INFO 05-24 15:45:41 [loader.py:458] Loading weights took 28.28 seconds\n",
      "\u001b[1;36m(VllmWorker rank=2 pid=1189797)\u001b[0;0m INFO 05-24 15:45:41 [loader.py:458] Loading weights took 28.29 seconds\n",
      "\u001b[1;36m(VllmWorker rank=7 pid=1189802)\u001b[0;0m INFO 05-24 15:45:41 [loader.py:458] Loading weights took 28.30 seconds\n",
      "\u001b[1;36m(VllmWorker rank=3 pid=1189798)\u001b[0;0m INFO 05-24 15:45:41 [loader.py:458] Loading weights took 28.27 seconds\n",
      "\u001b[1;36m(VllmWorker rank=6 pid=1189801)\u001b[0;0m INFO 05-24 15:45:41 [loader.py:458] Loading weights took 28.30 seconds\n",
      "\u001b[1;36m(VllmWorker rank=1 pid=1189796)\u001b[0;0m INFO 05-24 15:45:41 [loader.py:458] Loading weights took 28.36 seconds\n",
      "\u001b[1;36m(VllmWorker rank=5 pid=1189800)\u001b[0;0m INFO 05-24 15:45:41 [gpu_model_runner.py:1347] Model loading took 7.1631 GiB and 28.702761 seconds\n",
      "\u001b[1;36m(VllmWorker rank=4 pid=1189799)\u001b[0;0m INFO 05-24 15:45:41 [gpu_model_runner.py:1347] Model loading took 7.1631 GiB and 28.718022 seconds\n",
      "\u001b[1;36m(VllmWorker rank=7 pid=1189802)\u001b[0;0m INFO 05-24 15:45:41 [gpu_model_runner.py:1347] Model loading took 7.1631 GiB and 28.719584 seconds\n",
      "\u001b[1;36m(VllmWorker rank=0 pid=1189795)\u001b[0;0m INFO 05-24 15:45:41 [gpu_model_runner.py:1347] Model loading took 7.1631 GiB and 28.625158 seconds\n",
      "\u001b[1;36m(VllmWorker rank=3 pid=1189798)\u001b[0;0m INFO 05-24 15:45:41 [gpu_model_runner.py:1347] Model loading took 7.1631 GiB and 28.719001 seconds\n",
      "\u001b[1;36m(VllmWorker rank=2 pid=1189797)\u001b[0;0m INFO 05-24 15:45:41 [gpu_model_runner.py:1347] Model loading took 7.1631 GiB and 28.719146 seconds\n",
      "\u001b[1;36m(VllmWorker rank=6 pid=1189801)\u001b[0;0m INFO 05-24 15:45:41 [gpu_model_runner.py:1347] Model loading took 7.1631 GiB and 28.741446 seconds\n",
      "\u001b[1;36m(VllmWorker rank=1 pid=1189796)\u001b[0;0m INFO 05-24 15:45:41 [gpu_model_runner.py:1347] Model loading took 7.1631 GiB and 28.808194 seconds\n",
      "\u001b[1;36m(VllmWorker rank=1 pid=1189796)\u001b[0;0m INFO 05-24 15:45:54 [backends.py:420] Using cache directory: /home/just/.cache/vllm/torch_compile_cache/cb3ce3b634/rank_1_0 for vLLM's torch.compile\n",
      "\u001b[1;36m(VllmWorker rank=1 pid=1189796)\u001b[0;0m INFO 05-24 15:45:54 [backends.py:430] Dynamo bytecode transform time: 12.08 s\n",
      "\u001b[1;36m(VllmWorker rank=6 pid=1189801)\u001b[0;0m INFO 05-24 15:45:54 [backends.py:420] Using cache directory: /home/just/.cache/vllm/torch_compile_cache/cb3ce3b634/rank_6_0 for vLLM's torch.compile\n",
      "\u001b[1;36m(VllmWorker rank=6 pid=1189801)\u001b[0;0m INFO 05-24 15:45:54 [backends.py:430] Dynamo bytecode transform time: 12.12 s\n",
      "\u001b[1;36m(VllmWorker rank=4 pid=1189799)\u001b[0;0m INFO 05-24 15:45:54 [backends.py:420] Using cache directory: /home/just/.cache/vllm/torch_compile_cache/cb3ce3b634/rank_4_0 for vLLM's torch.compile\n",
      "\u001b[1;36m(VllmWorker rank=7 pid=1189802)\u001b[0;0m INFO 05-24 15:45:54 [backends.py:420] Using cache directory: /home/just/.cache/vllm/torch_compile_cache/cb3ce3b634/rank_7_0 for vLLM's torch.compile\n",
      "\u001b[1;36m(VllmWorker rank=4 pid=1189799)\u001b[0;0m INFO 05-24 15:45:54 [backends.py:430] Dynamo bytecode transform time: 12.22 s\n",
      "\u001b[1;36m(VllmWorker rank=7 pid=1189802)\u001b[0;0m INFO 05-24 15:45:54 [backends.py:430] Dynamo bytecode transform time: 12.22 s\n",
      "\u001b[1;36m(VllmWorker rank=0 pid=1189795)\u001b[0;0m INFO 05-24 15:45:54 [backends.py:420] Using cache directory: /home/just/.cache/vllm/torch_compile_cache/cb3ce3b634/rank_0_0 for vLLM's torch.compile\n",
      "\u001b[1;36m(VllmWorker rank=0 pid=1189795)\u001b[0;0m INFO 05-24 15:45:54 [backends.py:430] Dynamo bytecode transform time: 12.29 s\n",
      "\u001b[1;36m(VllmWorker rank=2 pid=1189797)\u001b[0;0m INFO 05-24 15:45:54 [backends.py:420] Using cache directory: /home/just/.cache/vllm/torch_compile_cache/cb3ce3b634/rank_2_0 for vLLM's torch.compile\n",
      "\u001b[1;36m(VllmWorker rank=2 pid=1189797)\u001b[0;0m INFO 05-24 15:45:54 [backends.py:430] Dynamo bytecode transform time: 12.34 s\n",
      "\u001b[1;36m(VllmWorker rank=3 pid=1189798)\u001b[0;0m INFO 05-24 15:45:54 [backends.py:420] Using cache directory: /home/just/.cache/vllm/torch_compile_cache/cb3ce3b634/rank_3_0 for vLLM's torch.compile\n",
      "\u001b[1;36m(VllmWorker rank=3 pid=1189798)\u001b[0;0m INFO 05-24 15:45:54 [backends.py:430] Dynamo bytecode transform time: 12.49 s\n",
      "\u001b[1;36m(VllmWorker rank=5 pid=1189800)\u001b[0;0m INFO 05-24 15:45:54 [backends.py:420] Using cache directory: /home/just/.cache/vllm/torch_compile_cache/cb3ce3b634/rank_5_0 for vLLM's torch.compile\n",
      "\u001b[1;36m(VllmWorker rank=5 pid=1189800)\u001b[0;0m INFO 05-24 15:45:54 [backends.py:430] Dynamo bytecode transform time: 12.50 s\n",
      "\u001b[1;36m(VllmWorker rank=1 pid=1189796)\u001b[0;0m INFO 05-24 15:45:59 [backends.py:136] Cache the graph of shape None for later use\n",
      "\u001b[1;36m(VllmWorker rank=6 pid=1189801)\u001b[0;0m INFO 05-24 15:45:59 [backends.py:136] Cache the graph of shape None for later use\n",
      "\u001b[1;36m(VllmWorker rank=7 pid=1189802)\u001b[0;0m INFO 05-24 15:45:59 [backends.py:136] Cache the graph of shape None for later use\n",
      "\u001b[1;36m(VllmWorker rank=4 pid=1189799)\u001b[0;0m INFO 05-24 15:45:59 [backends.py:136] Cache the graph of shape None for later use\n",
      "\u001b[1;36m(VllmWorker rank=0 pid=1189795)\u001b[0;0m INFO 05-24 15:45:59 [backends.py:136] Cache the graph of shape None for later use\n",
      "\u001b[1;36m(VllmWorker rank=2 pid=1189797)\u001b[0;0m INFO 05-24 15:45:59 [backends.py:136] Cache the graph of shape None for later use\n",
      "\u001b[1;36m(VllmWorker rank=3 pid=1189798)\u001b[0;0m INFO 05-24 15:45:59 [backends.py:136] Cache the graph of shape None for later use\n",
      "\u001b[1;36m(VllmWorker rank=5 pid=1189800)\u001b[0;0m INFO 05-24 15:46:00 [backends.py:136] Cache the graph of shape None for later use\n",
      "\u001b[1;36m(VllmWorker rank=1 pid=1189796)\u001b[0;0m INFO 05-24 15:46:41 [backends.py:148] Compiling a graph for general shape takes 46.17 s\n",
      "\u001b[1;36m(VllmWorker rank=6 pid=1189801)\u001b[0;0m INFO 05-24 15:46:41 [backends.py:148] Compiling a graph for general shape takes 46.47 s\n",
      "\u001b[1;36m(VllmWorker rank=5 pid=1189800)\u001b[0;0m INFO 05-24 15:46:42 [backends.py:148] Compiling a graph for general shape takes 46.39 s\n",
      "\u001b[1;36m(VllmWorker rank=7 pid=1189802)\u001b[0;0m INFO 05-24 15:46:42 [backends.py:148] Compiling a graph for general shape takes 47.62 s\n",
      "\u001b[1;36m(VllmWorker rank=4 pid=1189799)\u001b[0;0m INFO 05-24 15:46:42 [backends.py:148] Compiling a graph for general shape takes 47.71 s\n",
      "\u001b[1;36m(VllmWorker rank=3 pid=1189798)\u001b[0;0m INFO 05-24 15:46:43 [backends.py:148] Compiling a graph for general shape takes 47.43 s\n",
      "\u001b[1;36m(VllmWorker rank=2 pid=1189797)\u001b[0;0m INFO 05-24 15:46:43 [backends.py:148] Compiling a graph for general shape takes 48.11 s\n",
      "\u001b[1;36m(VllmWorker rank=0 pid=1189795)\u001b[0;0m INFO 05-24 15:46:43 [backends.py:148] Compiling a graph for general shape takes 48.37 s\n",
      "\u001b[1;36m(VllmWorker rank=4 pid=1189799)\u001b[0;0m WARNING 05-24 15:46:47 [fused_moe.py:668] Using default MoE config. Performance might be sub-optimal! Config file not found at /home/just/newvllm/lib/python3.10/site-packages/vllm/model_executor/layers/fused_moe/configs/E=128,N=96,device_name=NVIDIA_RTX_A6000.json\n",
      "\u001b[1;36m(VllmWorker rank=5 pid=1189800)\u001b[0;0m WARNING 05-24 15:46:47 [fused_moe.py:668] Using default MoE config. Performance might be sub-optimal! Config file not found at /home/just/newvllm/lib/python3.10/site-packages/vllm/model_executor/layers/fused_moe/configs/E=128,N=96,device_name=NVIDIA_RTX_A6000.json\n",
      "\u001b[1;36m(VllmWorker rank=2 pid=1189797)\u001b[0;0m WARNING 05-24 15:46:47 [fused_moe.py:668] Using default MoE config. Performance might be sub-optimal! Config file not found at /home/just/newvllm/lib/python3.10/site-packages/vllm/model_executor/layers/fused_moe/configs/E=128,N=96,device_name=NVIDIA_RTX_A6000.json\n",
      "\u001b[1;36m(VllmWorker rank=3 pid=1189798)\u001b[0;0m WARNING 05-24 15:46:47 [fused_moe.py:668] Using default MoE config. Performance might be sub-optimal! Config file not found at /home/just/newvllm/lib/python3.10/site-packages/vllm/model_executor/layers/fused_moe/configs/E=128,N=96,device_name=NVIDIA_RTX_A6000.json\n",
      "\u001b[1;36m(VllmWorker rank=1 pid=1189796)\u001b[0;0m WARNING 05-24 15:46:47 [fused_moe.py:668] Using default MoE config. Performance might be sub-optimal! Config file not found at /home/just/newvllm/lib/python3.10/site-packages/vllm/model_executor/layers/fused_moe/configs/E=128,N=96,device_name=NVIDIA_RTX_A6000.json\n",
      "\u001b[1;36m(VllmWorker rank=0 pid=1189795)\u001b[0;0m WARNING 05-24 15:46:47 [fused_moe.py:668] Using default MoE config. Performance might be sub-optimal! Config file not found at /home/just/newvllm/lib/python3.10/site-packages/vllm/model_executor/layers/fused_moe/configs/E=128,N=96,device_name=NVIDIA_RTX_A6000.json\n",
      "\u001b[1;36m(VllmWorker rank=6 pid=1189801)\u001b[0;0m WARNING 05-24 15:46:47 [fused_moe.py:668] Using default MoE config. Performance might be sub-optimal! Config file not found at /home/just/newvllm/lib/python3.10/site-packages/vllm/model_executor/layers/fused_moe/configs/E=128,N=96,device_name=NVIDIA_RTX_A6000.json\n",
      "\u001b[1;36m(VllmWorker rank=7 pid=1189802)\u001b[0;0m WARNING 05-24 15:46:47 [fused_moe.py:668] Using default MoE config. Performance might be sub-optimal! Config file not found at /home/just/newvllm/lib/python3.10/site-packages/vllm/model_executor/layers/fused_moe/configs/E=128,N=96,device_name=NVIDIA_RTX_A6000.json\n",
      "\u001b[1;36m(VllmWorker rank=1 pid=1189796)\u001b[0;0m INFO 05-24 15:47:38 [monitor.py:33] torch.compile takes 58.25 s in total\n",
      "\u001b[1;36m(VllmWorker rank=6 pid=1189801)\u001b[0;0m INFO 05-24 15:47:38 [monitor.py:33] torch.compile takes 58.59 s in total\n",
      "\u001b[1;36m(VllmWorker rank=0 pid=1189795)\u001b[0;0m INFO 05-24 15:47:38 [monitor.py:33] torch.compile takes 60.66 s in total\n",
      "\u001b[1;36m(VllmWorker rank=7 pid=1189802)\u001b[0;0m INFO 05-24 15:47:38 [monitor.py:33] torch.compile takes 59.84 s in total\n",
      "\u001b[1;36m(VllmWorker rank=5 pid=1189800)\u001b[0;0m INFO 05-24 15:47:38 [monitor.py:33] torch.compile takes 58.89 s in total\n",
      "\u001b[1;36m(VllmWorker rank=2 pid=1189797)\u001b[0;0m INFO 05-24 15:47:38 [monitor.py:33] torch.compile takes 60.45 s in total\n",
      "\u001b[1;36m(VllmWorker rank=4 pid=1189799)\u001b[0;0m INFO 05-24 15:47:38 [monitor.py:33] torch.compile takes 59.93 s in total\n",
      "\u001b[1;36m(VllmWorker rank=3 pid=1189798)\u001b[0;0m INFO 05-24 15:47:38 [monitor.py:33] torch.compile takes 59.92 s in total\n",
      "INFO 05-24 15:47:40 [kv_cache_utils.py:634] GPU KV cache size: 1,463,712 tokens\n",
      "INFO 05-24 15:47:40 [kv_cache_utils.py:637] Maximum concurrency for 32,000 tokens per request: 45.74x\n",
      "INFO 05-24 15:47:40 [kv_cache_utils.py:634] GPU KV cache size: 1,463,712 tokens\n",
      "INFO 05-24 15:47:40 [kv_cache_utils.py:637] Maximum concurrency for 32,000 tokens per request: 45.74x\n",
      "INFO 05-24 15:47:40 [kv_cache_utils.py:634] GPU KV cache size: 1,463,712 tokens\n",
      "INFO 05-24 15:47:40 [kv_cache_utils.py:637] Maximum concurrency for 32,000 tokens per request: 45.74x\n",
      "INFO 05-24 15:47:40 [kv_cache_utils.py:634] GPU KV cache size: 1,463,712 tokens\n",
      "INFO 05-24 15:47:40 [kv_cache_utils.py:637] Maximum concurrency for 32,000 tokens per request: 45.74x\n",
      "INFO 05-24 15:47:40 [kv_cache_utils.py:634] GPU KV cache size: 1,463,712 tokens\n",
      "INFO 05-24 15:47:40 [kv_cache_utils.py:637] Maximum concurrency for 32,000 tokens per request: 45.74x\n",
      "INFO 05-24 15:47:40 [kv_cache_utils.py:634] GPU KV cache size: 1,463,712 tokens\n",
      "INFO 05-24 15:47:40 [kv_cache_utils.py:637] Maximum concurrency for 32,000 tokens per request: 45.74x\n",
      "INFO 05-24 15:47:40 [kv_cache_utils.py:634] GPU KV cache size: 1,463,712 tokens\n",
      "INFO 05-24 15:47:40 [kv_cache_utils.py:637] Maximum concurrency for 32,000 tokens per request: 45.74x\n",
      "INFO 05-24 15:47:40 [kv_cache_utils.py:634] GPU KV cache size: 1,463,712 tokens\n",
      "INFO 05-24 15:47:40 [kv_cache_utils.py:637] Maximum concurrency for 32,000 tokens per request: 45.74x\n",
      "\u001b[1;36m(VllmWorker rank=7 pid=1189802)\u001b[0;0m INFO 05-24 15:48:30 [gpu_model_runner.py:1686] Graph capturing finished in 50 secs, took 1.88 GiB\n",
      "\u001b[1;36m(VllmWorker rank=6 pid=1189801)\u001b[0;0m INFO 05-24 15:48:30 [gpu_model_runner.py:1686] Graph capturing finished in 50 secs, took 1.88 GiB\n",
      "\u001b[1;36m(VllmWorker rank=1 pid=1189796)\u001b[0;0m INFO 05-24 15:48:30 [gpu_model_runner.py:1686] Graph capturing finished in 50 secs, took 1.88 GiB\n",
      "\u001b[1;36m(VllmWorker rank=2 pid=1189797)\u001b[0;0m INFO 05-24 15:48:30 [gpu_model_runner.py:1686] Graph capturing finished in 50 secs, took 1.88 GiB\n",
      "\u001b[1;36m(VllmWorker rank=5 pid=1189800)\u001b[0;0m INFO 05-24 15:48:30 [gpu_model_runner.py:1686] Graph capturing finished in 50 secs, took 1.88 GiB\n",
      "\u001b[1;36m(VllmWorker rank=3 pid=1189798)\u001b[0;0m INFO 05-24 15:48:30 [gpu_model_runner.py:1686] Graph capturing finished in 50 secs, took 1.88 GiB\n",
      "\u001b[1;36m(VllmWorker rank=4 pid=1189799)\u001b[0;0m INFO 05-24 15:48:30 [gpu_model_runner.py:1686] Graph capturing finished in 50 secs, took 1.88 GiB\n",
      "\u001b[1;36m(VllmWorker rank=0 pid=1189795)\u001b[0;0m INFO 05-24 15:48:30 [gpu_model_runner.py:1686] Graph capturing finished in 50 secs, took 1.88 GiB\n",
      "INFO 05-24 15:48:30 [core.py:159] init engine (profile, create kv cache, warmup model) took 168.73 seconds\n",
      "INFO 05-24 15:48:30 [core_client.py:439] Core engine process 0 ready.\n"
     ]
    }
   ],
   "source": [
    "llm = LLM(\n",
    "        model=model_id,\n",
    "        **default_params\n",
    "    )"
   ]
  },
  {
   "cell_type": "code",
   "execution_count": 9,
   "id": "04d03c8b-fb8c-4028-91e0-b6e468d7bca0",
   "metadata": {},
   "outputs": [],
   "source": [
    "sampling_params = SamplingParams(temperature=0.6, \n",
    "                         top_p=0.95, top_k=40,\n",
    "                             max_tokens=82500)"
   ]
  },
  {
   "cell_type": "code",
   "execution_count": 10,
   "id": "390163a8-995b-462b-aeb7-667ddda9dfab",
   "metadata": {},
   "outputs": [],
   "source": [
    "def apply_qwen_math_template(question: str):\n",
    "    return (\n",
    "        \"<|im_start|>system\\nYou are a helpful and harmless assistant. You should think step-by-step. Think and respond entirely in English. You do not face any time or effort limitations.<|im_end|>\\n<|im_start|>user\\n\"\n",
    "        + question\n",
    "        + \"<|im_end|>\\n<|im_start|>assistant\\n\"\n",
    "    )"
   ]
  },
  {
   "cell_type": "code",
   "execution_count": 11,
   "id": "e5d5765f-d7d6-4a66-b270-992104084dd4",
   "metadata": {},
   "outputs": [],
   "source": [
    "def apply_qwen_math_template(question: str):\n",
    "    return (\n",
    "        f\"<｜begin▁of▁sentence｜><｜User｜>{question}<｜Assistant｜><think>\\n\"\n",
    "\n",
    "    )"
   ]
  },
  {
   "cell_type": "code",
   "execution_count": null,
   "id": "0e115db2-b7e1-443e-9ab9-b38f8cfd6dba",
   "metadata": {},
   "outputs": [],
   "source": []
  },
  {
   "cell_type": "code",
   "execution_count": 12,
   "id": "26931125-605a-4bf8-a955-be19ad87da7f",
   "metadata": {},
   "outputs": [],
   "source": [
    "def get_multiple_model_answer(prompts):\n",
    "        new_prompts = []\n",
    "    \n",
    "        # for prompt in prompts:\n",
    "        #     messages = [\n",
    "        #         {\"role\": \"system\", \"content\": \"You are a helpful and harmless assistant. You are Qwen developed by Alibaba. You should think step-by-step. Think and respond entirely in English. You do not face any time or effort limitations.\"},\n",
    "        #         # {\"role\": \"system\", \"content\": \"You are a knowledgeable, efficient, and direct AI assistant.\"},\n",
    "        #         {\"role\": \"user\", \"content\": prompt},\n",
    "        #     ]\n",
    "        #     new_prompts.append(messages)\n",
    "\n",
    "        new_prompts = list(map(apply_qwen_math_template, prompts))\n",
    "        # out = llm.chat(new_prompts, sampling_params)\n",
    "        out = llm.generate(new_prompts, sampling_params)\n",
    "        return out"
   ]
  },
  {
   "cell_type": "code",
   "execution_count": 13,
   "id": "3476fd83-5e4a-4931-9336-1c7a897c1a64",
   "metadata": {},
   "outputs": [],
   "source": [
    "datasets = [\"ARC_question\",\n",
    "            \"BBH_logical3_question\",\n",
    "            \"TAL_question\",\n",
    "            \"BBH_logical5_tag_question\",\n",
    "           \"BBH_logical5_basic_question\",\n",
    "           \"BBH_logical3_tag_question\",\n",
    "           \"BBH_date_tag_question\",\n",
    "           \"BBH_date_basic_question\",\n",
    "           \"ARC_tag_question\",\n",
    "           \"TAL_tag_question\",\n",
    "           \"MMLU_college_medicine_tag_question\",\n",
    "           \"MMLU_high_physics_tag_question\",\n",
    "           \"MMLU_college_physics_tag_question\",\n",
    "           \"MMLU_college_medicine_basic_question\",\n",
    "           \"MMLU_high_physics_basic_question\",\n",
    "           \"MMLU_college_physics_basic_question\"]"
   ]
  },
  {
   "cell_type": "code",
   "execution_count": 14,
   "id": "1c15880c-4549-428a-a9b7-8df8f73ca251",
   "metadata": {},
   "outputs": [
    {
     "name": "stdout",
     "output_type": "stream",
     "text": [
      "ARC_question\n",
      "1119\n",
      "1119 dataset max len : 300\n"
     ]
    },
    {
     "data": {
      "application/vnd.jupyter.widget-view+json": {
       "model_id": "23f4304742f4456fb29d1a52dea15d25",
       "version_major": 2,
       "version_minor": 0
      },
      "text/plain": [
       "Processed prompts:   0%|          | 0/20 [00:00<?, ?it/s, est. speed input: 0.00 toks/s, output: 0.00 toks/s]"
      ]
     },
     "metadata": {},
     "output_type": "display_data"
    },
    {
     "name": "stdout",
     "output_type": "stream",
     "text": [
      "20/300 took 118.8571765422821 seconds.\n"
     ]
    },
    {
     "data": {
      "application/vnd.jupyter.widget-view+json": {
       "model_id": "296b31e91d3c44eeaf68077e16ee10b0",
       "version_major": 2,
       "version_minor": 0
      },
      "text/plain": [
       "Processed prompts:   0%|          | 0/20 [00:00<?, ?it/s, est. speed input: 0.00 toks/s, output: 0.00 toks/s]"
      ]
     },
     "metadata": {},
     "output_type": "display_data"
    },
    {
     "name": "stdout",
     "output_type": "stream",
     "text": [
      "40/300 took 218.83460783958435 seconds.\n"
     ]
    },
    {
     "data": {
      "application/vnd.jupyter.widget-view+json": {
       "model_id": "904c2249329f47138354a2c4cc4c04fc",
       "version_major": 2,
       "version_minor": 0
      },
      "text/plain": [
       "Processed prompts:   0%|          | 0/20 [00:00<?, ?it/s, est. speed input: 0.00 toks/s, output: 0.00 toks/s]"
      ]
     },
     "metadata": {},
     "output_type": "display_data"
    },
    {
     "name": "stdout",
     "output_type": "stream",
     "text": [
      "60/300 took 325.90111804008484 seconds.\n"
     ]
    },
    {
     "data": {
      "application/vnd.jupyter.widget-view+json": {
       "model_id": "298c0e2184fb49d49fb38952f3f40da6",
       "version_major": 2,
       "version_minor": 0
      },
      "text/plain": [
       "Processed prompts:   0%|          | 0/20 [00:00<?, ?it/s, est. speed input: 0.00 toks/s, output: 0.00 toks/s]"
      ]
     },
     "metadata": {},
     "output_type": "display_data"
    },
    {
     "name": "stdout",
     "output_type": "stream",
     "text": [
      "80/300 took 410.8652410507202 seconds.\n"
     ]
    },
    {
     "data": {
      "application/vnd.jupyter.widget-view+json": {
       "model_id": "cf52c7aa9aec4e2a88c61344365755f1",
       "version_major": 2,
       "version_minor": 0
      },
      "text/plain": [
       "Processed prompts:   0%|          | 0/20 [00:00<?, ?it/s, est. speed input: 0.00 toks/s, output: 0.00 toks/s]"
      ]
     },
     "metadata": {},
     "output_type": "display_data"
    },
    {
     "name": "stdout",
     "output_type": "stream",
     "text": [
      "100/300 took 517.9749457836151 seconds.\n"
     ]
    },
    {
     "data": {
      "application/vnd.jupyter.widget-view+json": {
       "model_id": "d4ef8465751c46a4ad20633331416118",
       "version_major": 2,
       "version_minor": 0
      },
      "text/plain": [
       "Processed prompts:   0%|          | 0/20 [00:00<?, ?it/s, est. speed input: 0.00 toks/s, output: 0.00 toks/s]"
      ]
     },
     "metadata": {},
     "output_type": "display_data"
    },
    {
     "name": "stdout",
     "output_type": "stream",
     "text": [
      "120/300 took 604.1874554157257 seconds.\n"
     ]
    },
    {
     "data": {
      "application/vnd.jupyter.widget-view+json": {
       "model_id": "82862e29737442f897256ffb5528705c",
       "version_major": 2,
       "version_minor": 0
      },
      "text/plain": [
       "Processed prompts:   0%|          | 0/20 [00:00<?, ?it/s, est. speed input: 0.00 toks/s, output: 0.00 toks/s]"
      ]
     },
     "metadata": {},
     "output_type": "display_data"
    },
    {
     "name": "stdout",
     "output_type": "stream",
     "text": [
      "140/300 took 690.7649872303009 seconds.\n"
     ]
    },
    {
     "data": {
      "application/vnd.jupyter.widget-view+json": {
       "model_id": "e08a787b9bfb4acf9dbca715eca69739",
       "version_major": 2,
       "version_minor": 0
      },
      "text/plain": [
       "Processed prompts:   0%|          | 0/20 [00:00<?, ?it/s, est. speed input: 0.00 toks/s, output: 0.00 toks/s]"
      ]
     },
     "metadata": {},
     "output_type": "display_data"
    },
    {
     "name": "stdout",
     "output_type": "stream",
     "text": [
      "160/300 took 801.3477957248688 seconds.\n"
     ]
    },
    {
     "data": {
      "application/vnd.jupyter.widget-view+json": {
       "model_id": "12751fb3edf947359ef3ce917c0b318a",
       "version_major": 2,
       "version_minor": 0
      },
      "text/plain": [
       "Processed prompts:   0%|          | 0/20 [00:00<?, ?it/s, est. speed input: 0.00 toks/s, output: 0.00 toks/s]"
      ]
     },
     "metadata": {},
     "output_type": "display_data"
    },
    {
     "name": "stdout",
     "output_type": "stream",
     "text": [
      "180/300 took 882.2150120735168 seconds.\n"
     ]
    },
    {
     "data": {
      "application/vnd.jupyter.widget-view+json": {
       "model_id": "dcc6a9c3a4bc4fa28d7e25c54d8adc7e",
       "version_major": 2,
       "version_minor": 0
      },
      "text/plain": [
       "Processed prompts:   0%|          | 0/20 [00:00<?, ?it/s, est. speed input: 0.00 toks/s, output: 0.00 toks/s]"
      ]
     },
     "metadata": {},
     "output_type": "display_data"
    },
    {
     "name": "stdout",
     "output_type": "stream",
     "text": [
      "200/300 took 979.3195445537567 seconds.\n"
     ]
    },
    {
     "data": {
      "application/vnd.jupyter.widget-view+json": {
       "model_id": "c3496603aeba422398cc8d37c3f8a931",
       "version_major": 2,
       "version_minor": 0
      },
      "text/plain": [
       "Processed prompts:   0%|          | 0/20 [00:00<?, ?it/s, est. speed input: 0.00 toks/s, output: 0.00 toks/s]"
      ]
     },
     "metadata": {},
     "output_type": "display_data"
    },
    {
     "name": "stdout",
     "output_type": "stream",
     "text": [
      "220/300 took 1082.4068205356598 seconds.\n"
     ]
    },
    {
     "data": {
      "application/vnd.jupyter.widget-view+json": {
       "model_id": "322f411b167d45a1b7cbb9f9736c75bb",
       "version_major": 2,
       "version_minor": 0
      },
      "text/plain": [
       "Processed prompts:   0%|          | 0/20 [00:00<?, ?it/s, est. speed input: 0.00 toks/s, output: 0.00 toks/s]"
      ]
     },
     "metadata": {},
     "output_type": "display_data"
    },
    {
     "name": "stdout",
     "output_type": "stream",
     "text": [
      "240/300 took 1155.112241268158 seconds.\n"
     ]
    },
    {
     "data": {
      "application/vnd.jupyter.widget-view+json": {
       "model_id": "1c37a924affd4f39a0ba5df099eb722d",
       "version_major": 2,
       "version_minor": 0
      },
      "text/plain": [
       "Processed prompts:   0%|          | 0/20 [00:00<?, ?it/s, est. speed input: 0.00 toks/s, output: 0.00 toks/s]"
      ]
     },
     "metadata": {},
     "output_type": "display_data"
    },
    {
     "name": "stdout",
     "output_type": "stream",
     "text": [
      "260/300 took 1241.446918964386 seconds.\n"
     ]
    },
    {
     "data": {
      "application/vnd.jupyter.widget-view+json": {
       "model_id": "1e70ad1b5ae24128b418d4fc1593abde",
       "version_major": 2,
       "version_minor": 0
      },
      "text/plain": [
       "Processed prompts:   0%|          | 0/20 [00:00<?, ?it/s, est. speed input: 0.00 toks/s, output: 0.00 toks/s]"
      ]
     },
     "metadata": {},
     "output_type": "display_data"
    },
    {
     "name": "stdout",
     "output_type": "stream",
     "text": [
      "280/300 took 1332.5723326206207 seconds.\n"
     ]
    },
    {
     "data": {
      "application/vnd.jupyter.widget-view+json": {
       "model_id": "a4336a052c25440daf85635cc7a97bc1",
       "version_major": 2,
       "version_minor": 0
      },
      "text/plain": [
       "Processed prompts:   0%|          | 0/20 [00:00<?, ?it/s, est. speed input: 0.00 toks/s, output: 0.00 toks/s]"
      ]
     },
     "metadata": {},
     "output_type": "display_data"
    },
    {
     "name": "stdout",
     "output_type": "stream",
     "text": [
      "300/300 took 1450.9996628761292 seconds.\n",
      "BBH_logical3_question\n",
      "250\n",
      "250 dataset max len : 250\n"
     ]
    },
    {
     "data": {
      "application/vnd.jupyter.widget-view+json": {
       "model_id": "75ac11c8bb134f0ca89406d5c3e325e5",
       "version_major": 2,
       "version_minor": 0
      },
      "text/plain": [
       "Processed prompts:   0%|          | 0/20 [00:00<?, ?it/s, est. speed input: 0.00 toks/s, output: 0.00 toks/s]"
      ]
     },
     "metadata": {},
     "output_type": "display_data"
    },
    {
     "name": "stdout",
     "output_type": "stream",
     "text": [
      "20/250 took 178.70181703567505 seconds.\n"
     ]
    },
    {
     "data": {
      "application/vnd.jupyter.widget-view+json": {
       "model_id": "86b7b240a3fa4549bf6e9e2da722d497",
       "version_major": 2,
       "version_minor": 0
      },
      "text/plain": [
       "Processed prompts:   0%|          | 0/20 [00:00<?, ?it/s, est. speed input: 0.00 toks/s, output: 0.00 toks/s]"
      ]
     },
     "metadata": {},
     "output_type": "display_data"
    },
    {
     "name": "stdout",
     "output_type": "stream",
     "text": [
      "40/250 took 365.09283781051636 seconds.\n"
     ]
    },
    {
     "data": {
      "application/vnd.jupyter.widget-view+json": {
       "model_id": "7a618576819b4f8d806e330a759b73bf",
       "version_major": 2,
       "version_minor": 0
      },
      "text/plain": [
       "Processed prompts:   0%|          | 0/20 [00:00<?, ?it/s, est. speed input: 0.00 toks/s, output: 0.00 toks/s]"
      ]
     },
     "metadata": {},
     "output_type": "display_data"
    },
    {
     "name": "stdout",
     "output_type": "stream",
     "text": [
      "60/250 took 536.6639029979706 seconds.\n"
     ]
    },
    {
     "data": {
      "application/vnd.jupyter.widget-view+json": {
       "model_id": "15c62b74513749d488b2fd3e635f10a2",
       "version_major": 2,
       "version_minor": 0
      },
      "text/plain": [
       "Processed prompts:   0%|          | 0/20 [00:00<?, ?it/s, est. speed input: 0.00 toks/s, output: 0.00 toks/s]"
      ]
     },
     "metadata": {},
     "output_type": "display_data"
    },
    {
     "name": "stdout",
     "output_type": "stream",
     "text": [
      "80/250 took 707.9224441051483 seconds.\n"
     ]
    },
    {
     "data": {
      "application/vnd.jupyter.widget-view+json": {
       "model_id": "4664cb43dce243368925be84680ba3b0",
       "version_major": 2,
       "version_minor": 0
      },
      "text/plain": [
       "Processed prompts:   0%|          | 0/20 [00:00<?, ?it/s, est. speed input: 0.00 toks/s, output: 0.00 toks/s]"
      ]
     },
     "metadata": {},
     "output_type": "display_data"
    },
    {
     "name": "stdout",
     "output_type": "stream",
     "text": [
      "100/250 took 872.3943901062012 seconds.\n"
     ]
    },
    {
     "data": {
      "application/vnd.jupyter.widget-view+json": {
       "model_id": "ce4d1ac32e604997a7613103c6c50c5d",
       "version_major": 2,
       "version_minor": 0
      },
      "text/plain": [
       "Processed prompts:   0%|          | 0/20 [00:00<?, ?it/s, est. speed input: 0.00 toks/s, output: 0.00 toks/s]"
      ]
     },
     "metadata": {},
     "output_type": "display_data"
    },
    {
     "name": "stdout",
     "output_type": "stream",
     "text": [
      "120/250 took 1028.120106458664 seconds.\n"
     ]
    },
    {
     "data": {
      "application/vnd.jupyter.widget-view+json": {
       "model_id": "714aea85da1948e395d69558e1e90719",
       "version_major": 2,
       "version_minor": 0
      },
      "text/plain": [
       "Processed prompts:   0%|          | 0/20 [00:00<?, ?it/s, est. speed input: 0.00 toks/s, output: 0.00 toks/s]"
      ]
     },
     "metadata": {},
     "output_type": "display_data"
    },
    {
     "name": "stdout",
     "output_type": "stream",
     "text": [
      "140/250 took 1166.273754119873 seconds.\n"
     ]
    },
    {
     "data": {
      "application/vnd.jupyter.widget-view+json": {
       "model_id": "657a28247ba3427dbe87ad47f036b126",
       "version_major": 2,
       "version_minor": 0
      },
      "text/plain": [
       "Processed prompts:   0%|          | 0/20 [00:00<?, ?it/s, est. speed input: 0.00 toks/s, output: 0.00 toks/s]"
      ]
     },
     "metadata": {},
     "output_type": "display_data"
    },
    {
     "name": "stdout",
     "output_type": "stream",
     "text": [
      "160/250 took 1324.0330324172974 seconds.\n"
     ]
    },
    {
     "data": {
      "application/vnd.jupyter.widget-view+json": {
       "model_id": "d94ec848cc94456abbe4d9d6f848df5c",
       "version_major": 2,
       "version_minor": 0
      },
      "text/plain": [
       "Processed prompts:   0%|          | 0/20 [00:00<?, ?it/s, est. speed input: 0.00 toks/s, output: 0.00 toks/s]"
      ]
     },
     "metadata": {},
     "output_type": "display_data"
    },
    {
     "name": "stdout",
     "output_type": "stream",
     "text": [
      "180/250 took 1532.6285183429718 seconds.\n"
     ]
    },
    {
     "data": {
      "application/vnd.jupyter.widget-view+json": {
       "model_id": "0066b84bd6b54c88a693ad7b440aef68",
       "version_major": 2,
       "version_minor": 0
      },
      "text/plain": [
       "Processed prompts:   0%|          | 0/20 [00:00<?, ?it/s, est. speed input: 0.00 toks/s, output: 0.00 toks/s]"
      ]
     },
     "metadata": {},
     "output_type": "display_data"
    },
    {
     "name": "stdout",
     "output_type": "stream",
     "text": [
      "200/250 took 1723.6807057857513 seconds.\n"
     ]
    },
    {
     "data": {
      "application/vnd.jupyter.widget-view+json": {
       "model_id": "e530c9cbad3547d68f8c425dcf6b8f2b",
       "version_major": 2,
       "version_minor": 0
      },
      "text/plain": [
       "Processed prompts:   0%|          | 0/20 [00:00<?, ?it/s, est. speed input: 0.00 toks/s, output: 0.00 toks/s]"
      ]
     },
     "metadata": {},
     "output_type": "display_data"
    },
    {
     "name": "stdout",
     "output_type": "stream",
     "text": [
      "220/250 took 1884.988302230835 seconds.\n"
     ]
    },
    {
     "data": {
      "application/vnd.jupyter.widget-view+json": {
       "model_id": "7a49219e3e554392a72d7fe85d60f196",
       "version_major": 2,
       "version_minor": 0
      },
      "text/plain": [
       "Processed prompts:   0%|          | 0/20 [00:00<?, ?it/s, est. speed input: 0.00 toks/s, output: 0.00 toks/s]"
      ]
     },
     "metadata": {},
     "output_type": "display_data"
    },
    {
     "name": "stdout",
     "output_type": "stream",
     "text": [
      "240/250 took 2011.3304488658905 seconds.\n"
     ]
    },
    {
     "data": {
      "application/vnd.jupyter.widget-view+json": {
       "model_id": "6bca88fd759c4343b5d18f3803b06dab",
       "version_major": 2,
       "version_minor": 0
      },
      "text/plain": [
       "Processed prompts:   0%|          | 0/10 [00:00<?, ?it/s, est. speed input: 0.00 toks/s, output: 0.00 toks/s]"
      ]
     },
     "metadata": {},
     "output_type": "display_data"
    },
    {
     "name": "stdout",
     "output_type": "stream",
     "text": [
      "260/250 took 2149.921220779419 seconds.\n",
      "TAL_question\n",
      "3000\n",
      "3000 dataset max len : 300\n"
     ]
    },
    {
     "data": {
      "application/vnd.jupyter.widget-view+json": {
       "model_id": "31c3b46827074eb8aa875689083891c7",
       "version_major": 2,
       "version_minor": 0
      },
      "text/plain": [
       "Processed prompts:   0%|          | 0/20 [00:00<?, ?it/s, est. speed input: 0.00 toks/s, output: 0.00 toks/s]"
      ]
     },
     "metadata": {},
     "output_type": "display_data"
    },
    {
     "name": "stdout",
     "output_type": "stream",
     "text": [
      "20/300 took 413.36716294288635 seconds.\n"
     ]
    },
    {
     "data": {
      "application/vnd.jupyter.widget-view+json": {
       "model_id": "81902623a01349c3bb8680c985e07851",
       "version_major": 2,
       "version_minor": 0
      },
      "text/plain": [
       "Processed prompts:   0%|          | 0/20 [00:00<?, ?it/s, est. speed input: 0.00 toks/s, output: 0.00 toks/s]"
      ]
     },
     "metadata": {},
     "output_type": "display_data"
    },
    {
     "name": "stdout",
     "output_type": "stream",
     "text": [
      "40/300 took 719.5797085762024 seconds.\n"
     ]
    },
    {
     "data": {
      "application/vnd.jupyter.widget-view+json": {
       "model_id": "05fc54f320404fa5a4921e96826f2ade",
       "version_major": 2,
       "version_minor": 0
      },
      "text/plain": [
       "Processed prompts:   0%|          | 0/20 [00:00<?, ?it/s, est. speed input: 0.00 toks/s, output: 0.00 toks/s]"
      ]
     },
     "metadata": {},
     "output_type": "display_data"
    },
    {
     "name": "stdout",
     "output_type": "stream",
     "text": [
      "60/300 took 1085.2490940093994 seconds.\n"
     ]
    },
    {
     "data": {
      "application/vnd.jupyter.widget-view+json": {
       "model_id": "fa2c73d5b0e94cff99ffe428842917ca",
       "version_major": 2,
       "version_minor": 0
      },
      "text/plain": [
       "Processed prompts:   0%|          | 0/20 [00:00<?, ?it/s, est. speed input: 0.00 toks/s, output: 0.00 toks/s]"
      ]
     },
     "metadata": {},
     "output_type": "display_data"
    },
    {
     "name": "stdout",
     "output_type": "stream",
     "text": [
      "80/300 took 1424.0128405094147 seconds.\n"
     ]
    },
    {
     "data": {
      "application/vnd.jupyter.widget-view+json": {
       "model_id": "9c5b4cc04fb847d6b0a4b45055627b81",
       "version_major": 2,
       "version_minor": 0
      },
      "text/plain": [
       "Processed prompts:   0%|          | 0/20 [00:00<?, ?it/s, est. speed input: 0.00 toks/s, output: 0.00 toks/s]"
      ]
     },
     "metadata": {},
     "output_type": "display_data"
    },
    {
     "name": "stdout",
     "output_type": "stream",
     "text": [
      "100/300 took 1804.0559873580933 seconds.\n"
     ]
    },
    {
     "data": {
      "application/vnd.jupyter.widget-view+json": {
       "model_id": "a71e4ca907854ab49b716df0c7a3ea73",
       "version_major": 2,
       "version_minor": 0
      },
      "text/plain": [
       "Processed prompts:   0%|          | 0/20 [00:00<?, ?it/s, est. speed input: 0.00 toks/s, output: 0.00 toks/s]"
      ]
     },
     "metadata": {},
     "output_type": "display_data"
    },
    {
     "name": "stdout",
     "output_type": "stream",
     "text": [
      "120/300 took 2204.507580280304 seconds.\n"
     ]
    },
    {
     "data": {
      "application/vnd.jupyter.widget-view+json": {
       "model_id": "f26c8c7e7c6a427bb5439c98603b6478",
       "version_major": 2,
       "version_minor": 0
      },
      "text/plain": [
       "Processed prompts:   0%|          | 0/20 [00:00<?, ?it/s, est. speed input: 0.00 toks/s, output: 0.00 toks/s]"
      ]
     },
     "metadata": {},
     "output_type": "display_data"
    },
    {
     "name": "stdout",
     "output_type": "stream",
     "text": [
      "140/300 took 2607.644271373749 seconds.\n"
     ]
    },
    {
     "data": {
      "application/vnd.jupyter.widget-view+json": {
       "model_id": "d4ffe845672a45f09f40678d55eb3ce8",
       "version_major": 2,
       "version_minor": 0
      },
      "text/plain": [
       "Processed prompts:   0%|          | 0/20 [00:00<?, ?it/s, est. speed input: 0.00 toks/s, output: 0.00 toks/s]"
      ]
     },
     "metadata": {},
     "output_type": "display_data"
    },
    {
     "name": "stdout",
     "output_type": "stream",
     "text": [
      "160/300 took 2879.673451900482 seconds.\n"
     ]
    },
    {
     "data": {
      "application/vnd.jupyter.widget-view+json": {
       "model_id": "56ef5f0ca4eb422c9e75898e36e765c2",
       "version_major": 2,
       "version_minor": 0
      },
      "text/plain": [
       "Processed prompts:   0%|          | 0/20 [00:00<?, ?it/s, est. speed input: 0.00 toks/s, output: 0.00 toks/s]"
      ]
     },
     "metadata": {},
     "output_type": "display_data"
    },
    {
     "name": "stdout",
     "output_type": "stream",
     "text": [
      "180/300 took 3461.7764489650726 seconds.\n"
     ]
    },
    {
     "data": {
      "application/vnd.jupyter.widget-view+json": {
       "model_id": "1f2988d4b48e445cbc79a970f2d2e67b",
       "version_major": 2,
       "version_minor": 0
      },
      "text/plain": [
       "Processed prompts:   0%|          | 0/20 [00:00<?, ?it/s, est. speed input: 0.00 toks/s, output: 0.00 toks/s]"
      ]
     },
     "metadata": {},
     "output_type": "display_data"
    },
    {
     "name": "stdout",
     "output_type": "stream",
     "text": [
      "200/300 took 3874.277140378952 seconds.\n"
     ]
    },
    {
     "data": {
      "application/vnd.jupyter.widget-view+json": {
       "model_id": "6a999b9b6f5d4c47ac1ede53c38f064f",
       "version_major": 2,
       "version_minor": 0
      },
      "text/plain": [
       "Processed prompts:   0%|          | 0/20 [00:00<?, ?it/s, est. speed input: 0.00 toks/s, output: 0.00 toks/s]"
      ]
     },
     "metadata": {},
     "output_type": "display_data"
    },
    {
     "name": "stdout",
     "output_type": "stream",
     "text": [
      "220/300 took 4246.867800951004 seconds.\n"
     ]
    },
    {
     "data": {
      "application/vnd.jupyter.widget-view+json": {
       "model_id": "fb61e01772e64e8eac57ab319e738c24",
       "version_major": 2,
       "version_minor": 0
      },
      "text/plain": [
       "Processed prompts:   0%|          | 0/20 [00:00<?, ?it/s, est. speed input: 0.00 toks/s, output: 0.00 toks/s]"
      ]
     },
     "metadata": {},
     "output_type": "display_data"
    },
    {
     "name": "stdout",
     "output_type": "stream",
     "text": [
      "240/300 took 4528.237259149551 seconds.\n"
     ]
    },
    {
     "data": {
      "application/vnd.jupyter.widget-view+json": {
       "model_id": "126213f746a04b0c804f3b71dc60a48e",
       "version_major": 2,
       "version_minor": 0
      },
      "text/plain": [
       "Processed prompts:   0%|          | 0/20 [00:00<?, ?it/s, est. speed input: 0.00 toks/s, output: 0.00 toks/s]"
      ]
     },
     "metadata": {},
     "output_type": "display_data"
    },
    {
     "name": "stdout",
     "output_type": "stream",
     "text": [
      "260/300 took 4841.228394031525 seconds.\n"
     ]
    },
    {
     "data": {
      "application/vnd.jupyter.widget-view+json": {
       "model_id": "4585dbcae9634b3f953b77aff5b4849f",
       "version_major": 2,
       "version_minor": 0
      },
      "text/plain": [
       "Processed prompts:   0%|          | 0/20 [00:00<?, ?it/s, est. speed input: 0.00 toks/s, output: 0.00 toks/s]"
      ]
     },
     "metadata": {},
     "output_type": "display_data"
    },
    {
     "name": "stdout",
     "output_type": "stream",
     "text": [
      "280/300 took 5190.207426786423 seconds.\n"
     ]
    },
    {
     "data": {
      "application/vnd.jupyter.widget-view+json": {
       "model_id": "c52b63b15d7d44b3a27c1b95d73d2bf5",
       "version_major": 2,
       "version_minor": 0
      },
      "text/plain": [
       "Processed prompts:   0%|          | 0/20 [00:00<?, ?it/s, est. speed input: 0.00 toks/s, output: 0.00 toks/s]"
      ]
     },
     "metadata": {},
     "output_type": "display_data"
    },
    {
     "name": "stdout",
     "output_type": "stream",
     "text": [
      "300/300 took 5493.860565423965 seconds.\n",
      "BBH_logical5_tag_question\n",
      "250\n",
      "250 dataset max len : 250\n"
     ]
    },
    {
     "data": {
      "application/vnd.jupyter.widget-view+json": {
       "model_id": "6a13b505aa0b4f2f95105ec0a6690476",
       "version_major": 2,
       "version_minor": 0
      },
      "text/plain": [
       "Processed prompts:   0%|          | 0/20 [00:00<?, ?it/s, est. speed input: 0.00 toks/s, output: 0.00 toks/s]"
      ]
     },
     "metadata": {},
     "output_type": "display_data"
    },
    {
     "name": "stdout",
     "output_type": "stream",
     "text": [
      "20/250 took 367.11068058013916 seconds.\n"
     ]
    },
    {
     "data": {
      "application/vnd.jupyter.widget-view+json": {
       "model_id": "91c1f3e37fea410b9746f4d68685eafe",
       "version_major": 2,
       "version_minor": 0
      },
      "text/plain": [
       "Processed prompts:   0%|          | 0/20 [00:00<?, ?it/s, est. speed input: 0.00 toks/s, output: 0.00 toks/s]"
      ]
     },
     "metadata": {},
     "output_type": "display_data"
    },
    {
     "name": "stdout",
     "output_type": "stream",
     "text": [
      "40/250 took 667.8383204936981 seconds.\n"
     ]
    },
    {
     "data": {
      "application/vnd.jupyter.widget-view+json": {
       "model_id": "8a1f87bb8a8f4c93a9c80c1fe5c66fcb",
       "version_major": 2,
       "version_minor": 0
      },
      "text/plain": [
       "Processed prompts:   0%|          | 0/20 [00:00<?, ?it/s, est. speed input: 0.00 toks/s, output: 0.00 toks/s]"
      ]
     },
     "metadata": {},
     "output_type": "display_data"
    },
    {
     "name": "stdout",
     "output_type": "stream",
     "text": [
      "60/250 took 1023.2745981216431 seconds.\n"
     ]
    },
    {
     "data": {
      "application/vnd.jupyter.widget-view+json": {
       "model_id": "55214244c9bc4f2ca3ddd6a190d45767",
       "version_major": 2,
       "version_minor": 0
      },
      "text/plain": [
       "Processed prompts:   0%|          | 0/20 [00:00<?, ?it/s, est. speed input: 0.00 toks/s, output: 0.00 toks/s]"
      ]
     },
     "metadata": {},
     "output_type": "display_data"
    },
    {
     "name": "stdout",
     "output_type": "stream",
     "text": [
      "80/250 took 1354.6457121372223 seconds.\n"
     ]
    },
    {
     "data": {
      "application/vnd.jupyter.widget-view+json": {
       "model_id": "980ae6d09d5344c5a6a7f2705e36aa62",
       "version_major": 2,
       "version_minor": 0
      },
      "text/plain": [
       "Processed prompts:   0%|          | 0/20 [00:00<?, ?it/s, est. speed input: 0.00 toks/s, output: 0.00 toks/s]"
      ]
     },
     "metadata": {},
     "output_type": "display_data"
    },
    {
     "name": "stdout",
     "output_type": "stream",
     "text": [
      "100/250 took 1693.996393918991 seconds.\n"
     ]
    },
    {
     "data": {
      "application/vnd.jupyter.widget-view+json": {
       "model_id": "e5f90d9f185b4027bf999b71ac9e941e",
       "version_major": 2,
       "version_minor": 0
      },
      "text/plain": [
       "Processed prompts:   0%|          | 0/20 [00:00<?, ?it/s, est. speed input: 0.00 toks/s, output: 0.00 toks/s]"
      ]
     },
     "metadata": {},
     "output_type": "display_data"
    },
    {
     "name": "stdout",
     "output_type": "stream",
     "text": [
      "120/250 took 2068.196237564087 seconds.\n"
     ]
    },
    {
     "data": {
      "application/vnd.jupyter.widget-view+json": {
       "model_id": "106ebb286bca4a6e887d8c86a55a4b16",
       "version_major": 2,
       "version_minor": 0
      },
      "text/plain": [
       "Processed prompts:   0%|          | 0/20 [00:00<?, ?it/s, est. speed input: 0.00 toks/s, output: 0.00 toks/s]"
      ]
     },
     "metadata": {},
     "output_type": "display_data"
    },
    {
     "name": "stdout",
     "output_type": "stream",
     "text": [
      "140/250 took 2460.2432425022125 seconds.\n"
     ]
    },
    {
     "data": {
      "application/vnd.jupyter.widget-view+json": {
       "model_id": "3c13807c60dd4339b99a7967bab6d632",
       "version_major": 2,
       "version_minor": 0
      },
      "text/plain": [
       "Processed prompts:   0%|          | 0/20 [00:00<?, ?it/s, est. speed input: 0.00 toks/s, output: 0.00 toks/s]"
      ]
     },
     "metadata": {},
     "output_type": "display_data"
    },
    {
     "name": "stdout",
     "output_type": "stream",
     "text": [
      "160/250 took 2763.659316301346 seconds.\n"
     ]
    },
    {
     "data": {
      "application/vnd.jupyter.widget-view+json": {
       "model_id": "c2eb0cce49ab4edc92d04975374ce82a",
       "version_major": 2,
       "version_minor": 0
      },
      "text/plain": [
       "Processed prompts:   0%|          | 0/20 [00:00<?, ?it/s, est. speed input: 0.00 toks/s, output: 0.00 toks/s]"
      ]
     },
     "metadata": {},
     "output_type": "display_data"
    },
    {
     "name": "stdout",
     "output_type": "stream",
     "text": [
      "180/250 took 3101.8331758975983 seconds.\n"
     ]
    },
    {
     "data": {
      "application/vnd.jupyter.widget-view+json": {
       "model_id": "50ba8c72b20942a58ece59f9a2eb79c2",
       "version_major": 2,
       "version_minor": 0
      },
      "text/plain": [
       "Processed prompts:   0%|          | 0/20 [00:00<?, ?it/s, est. speed input: 0.00 toks/s, output: 0.00 toks/s]"
      ]
     },
     "metadata": {},
     "output_type": "display_data"
    },
    {
     "name": "stdout",
     "output_type": "stream",
     "text": [
      "200/250 took 3478.251091003418 seconds.\n"
     ]
    },
    {
     "data": {
      "application/vnd.jupyter.widget-view+json": {
       "model_id": "a35c641af8cd41f08b620013eac0e837",
       "version_major": 2,
       "version_minor": 0
      },
      "text/plain": [
       "Processed prompts:   0%|          | 0/20 [00:00<?, ?it/s, est. speed input: 0.00 toks/s, output: 0.00 toks/s]"
      ]
     },
     "metadata": {},
     "output_type": "display_data"
    },
    {
     "name": "stdout",
     "output_type": "stream",
     "text": [
      "220/250 took 3874.8763539791107 seconds.\n"
     ]
    },
    {
     "data": {
      "application/vnd.jupyter.widget-view+json": {
       "model_id": "a8e88491073846a08040aea12165ba79",
       "version_major": 2,
       "version_minor": 0
      },
      "text/plain": [
       "Processed prompts:   0%|          | 0/20 [00:00<?, ?it/s, est. speed input: 0.00 toks/s, output: 0.00 toks/s]"
      ]
     },
     "metadata": {},
     "output_type": "display_data"
    },
    {
     "name": "stdout",
     "output_type": "stream",
     "text": [
      "240/250 took 4214.847896814346 seconds.\n"
     ]
    },
    {
     "data": {
      "application/vnd.jupyter.widget-view+json": {
       "model_id": "484c177206ce41d1a76eff6bccbb2e55",
       "version_major": 2,
       "version_minor": 0
      },
      "text/plain": [
       "Processed prompts:   0%|          | 0/10 [00:00<?, ?it/s, est. speed input: 0.00 toks/s, output: 0.00 toks/s]"
      ]
     },
     "metadata": {},
     "output_type": "display_data"
    },
    {
     "name": "stdout",
     "output_type": "stream",
     "text": [
      "260/250 took 4424.0557606220245 seconds.\n",
      "BBH_logical5_basic_question\n",
      "250\n",
      "250 dataset max len : 250\n"
     ]
    },
    {
     "data": {
      "application/vnd.jupyter.widget-view+json": {
       "model_id": "26824826850a4e219c1698170391cc7a",
       "version_major": 2,
       "version_minor": 0
      },
      "text/plain": [
       "Processed prompts:   0%|          | 0/20 [00:00<?, ?it/s, est. speed input: 0.00 toks/s, output: 0.00 toks/s]"
      ]
     },
     "metadata": {},
     "output_type": "display_data"
    },
    {
     "name": "stdout",
     "output_type": "stream",
     "text": [
      "20/250 took 348.433541059494 seconds.\n"
     ]
    },
    {
     "data": {
      "application/vnd.jupyter.widget-view+json": {
       "model_id": "ec7cea702a494a31ab7b5349bcf052f7",
       "version_major": 2,
       "version_minor": 0
      },
      "text/plain": [
       "Processed prompts:   0%|          | 0/20 [00:00<?, ?it/s, est. speed input: 0.00 toks/s, output: 0.00 toks/s]"
      ]
     },
     "metadata": {},
     "output_type": "display_data"
    },
    {
     "name": "stdout",
     "output_type": "stream",
     "text": [
      "40/250 took 688.5526494979858 seconds.\n"
     ]
    },
    {
     "data": {
      "application/vnd.jupyter.widget-view+json": {
       "model_id": "90f56c0f36284cba81ff6254cd834ec1",
       "version_major": 2,
       "version_minor": 0
      },
      "text/plain": [
       "Processed prompts:   0%|          | 0/20 [00:00<?, ?it/s, est. speed input: 0.00 toks/s, output: 0.00 toks/s]"
      ]
     },
     "metadata": {},
     "output_type": "display_data"
    },
    {
     "name": "stdout",
     "output_type": "stream",
     "text": [
      "60/250 took 1052.2923519611359 seconds.\n"
     ]
    },
    {
     "data": {
      "application/vnd.jupyter.widget-view+json": {
       "model_id": "9b1da91695fd4062b7b03bc957beaa07",
       "version_major": 2,
       "version_minor": 0
      },
      "text/plain": [
       "Processed prompts:   0%|          | 0/20 [00:00<?, ?it/s, est. speed input: 0.00 toks/s, output: 0.00 toks/s]"
      ]
     },
     "metadata": {},
     "output_type": "display_data"
    },
    {
     "name": "stdout",
     "output_type": "stream",
     "text": [
      "80/250 took 1406.133794784546 seconds.\n"
     ]
    },
    {
     "data": {
      "application/vnd.jupyter.widget-view+json": {
       "model_id": "4059955a251c40139ae0f6d7b6150c02",
       "version_major": 2,
       "version_minor": 0
      },
      "text/plain": [
       "Processed prompts:   0%|          | 0/20 [00:00<?, ?it/s, est. speed input: 0.00 toks/s, output: 0.00 toks/s]"
      ]
     },
     "metadata": {},
     "output_type": "display_data"
    },
    {
     "name": "stdout",
     "output_type": "stream",
     "text": [
      "100/250 took 1764.8785150051117 seconds.\n"
     ]
    },
    {
     "data": {
      "application/vnd.jupyter.widget-view+json": {
       "model_id": "b8480beb229e4fba96526ab22484315f",
       "version_major": 2,
       "version_minor": 0
      },
      "text/plain": [
       "Processed prompts:   0%|          | 0/20 [00:00<?, ?it/s, est. speed input: 0.00 toks/s, output: 0.00 toks/s]"
      ]
     },
     "metadata": {},
     "output_type": "display_data"
    },
    {
     "name": "stdout",
     "output_type": "stream",
     "text": [
      "120/250 took 2116.2675909996033 seconds.\n"
     ]
    },
    {
     "data": {
      "application/vnd.jupyter.widget-view+json": {
       "model_id": "e63c40c71c5149279dc6fc4a0de63931",
       "version_major": 2,
       "version_minor": 0
      },
      "text/plain": [
       "Processed prompts:   0%|          | 0/20 [00:00<?, ?it/s, est. speed input: 0.00 toks/s, output: 0.00 toks/s]"
      ]
     },
     "metadata": {},
     "output_type": "display_data"
    },
    {
     "name": "stdout",
     "output_type": "stream",
     "text": [
      "140/250 took 2502.0802776813507 seconds.\n"
     ]
    },
    {
     "data": {
      "application/vnd.jupyter.widget-view+json": {
       "model_id": "f9b491a23bcd4a70bee3e4ce341f0c6a",
       "version_major": 2,
       "version_minor": 0
      },
      "text/plain": [
       "Processed prompts:   0%|          | 0/20 [00:00<?, ?it/s, est. speed input: 0.00 toks/s, output: 0.00 toks/s]"
      ]
     },
     "metadata": {},
     "output_type": "display_data"
    },
    {
     "name": "stdout",
     "output_type": "stream",
     "text": [
      "160/250 took 2845.380110025406 seconds.\n"
     ]
    },
    {
     "data": {
      "application/vnd.jupyter.widget-view+json": {
       "model_id": "1d9cc61679ee4f73a2a7502590277869",
       "version_major": 2,
       "version_minor": 0
      },
      "text/plain": [
       "Processed prompts:   0%|          | 0/20 [00:00<?, ?it/s, est. speed input: 0.00 toks/s, output: 0.00 toks/s]"
      ]
     },
     "metadata": {},
     "output_type": "display_data"
    },
    {
     "name": "stdout",
     "output_type": "stream",
     "text": [
      "180/250 took 3220.403183698654 seconds.\n"
     ]
    },
    {
     "data": {
      "application/vnd.jupyter.widget-view+json": {
       "model_id": "755cc020d08c4b24ae5faa489b2b3fc9",
       "version_major": 2,
       "version_minor": 0
      },
      "text/plain": [
       "Processed prompts:   0%|          | 0/20 [00:00<?, ?it/s, est. speed input: 0.00 toks/s, output: 0.00 toks/s]"
      ]
     },
     "metadata": {},
     "output_type": "display_data"
    },
    {
     "name": "stdout",
     "output_type": "stream",
     "text": [
      "200/250 took 3614.7096009254456 seconds.\n"
     ]
    },
    {
     "data": {
      "application/vnd.jupyter.widget-view+json": {
       "model_id": "6d9c4ee1321c46588055a5fae8298316",
       "version_major": 2,
       "version_minor": 0
      },
      "text/plain": [
       "Processed prompts:   0%|          | 0/20 [00:00<?, ?it/s, est. speed input: 0.00 toks/s, output: 0.00 toks/s]"
      ]
     },
     "metadata": {},
     "output_type": "display_data"
    },
    {
     "name": "stdout",
     "output_type": "stream",
     "text": [
      "220/250 took 4038.1850390434265 seconds.\n"
     ]
    },
    {
     "data": {
      "application/vnd.jupyter.widget-view+json": {
       "model_id": "4d6eb6f6613146bd967f736c2c40af4a",
       "version_major": 2,
       "version_minor": 0
      },
      "text/plain": [
       "Processed prompts:   0%|          | 0/20 [00:00<?, ?it/s, est. speed input: 0.00 toks/s, output: 0.00 toks/s]"
      ]
     },
     "metadata": {},
     "output_type": "display_data"
    },
    {
     "name": "stdout",
     "output_type": "stream",
     "text": [
      "240/250 took 4397.332685947418 seconds.\n"
     ]
    },
    {
     "data": {
      "application/vnd.jupyter.widget-view+json": {
       "model_id": "94d85578b8c04448a51e44e2ea1b84cb",
       "version_major": 2,
       "version_minor": 0
      },
      "text/plain": [
       "Processed prompts:   0%|          | 0/10 [00:00<?, ?it/s, est. speed input: 0.00 toks/s, output: 0.00 toks/s]"
      ]
     },
     "metadata": {},
     "output_type": "display_data"
    },
    {
     "name": "stdout",
     "output_type": "stream",
     "text": [
      "260/250 took 4623.2587168216705 seconds.\n",
      "BBH_logical3_tag_question\n",
      "250\n",
      "250 dataset max len : 250\n"
     ]
    },
    {
     "data": {
      "application/vnd.jupyter.widget-view+json": {
       "model_id": "0e07283a28514bd587c608419a903352",
       "version_major": 2,
       "version_minor": 0
      },
      "text/plain": [
       "Processed prompts:   0%|          | 0/20 [00:00<?, ?it/s, est. speed input: 0.00 toks/s, output: 0.00 toks/s]"
      ]
     },
     "metadata": {},
     "output_type": "display_data"
    },
    {
     "name": "stdout",
     "output_type": "stream",
     "text": [
      "20/250 took 154.93464374542236 seconds.\n"
     ]
    },
    {
     "data": {
      "application/vnd.jupyter.widget-view+json": {
       "model_id": "ac410953a33c4270a2f6f3e09e44c5e1",
       "version_major": 2,
       "version_minor": 0
      },
      "text/plain": [
       "Processed prompts:   0%|          | 0/20 [00:00<?, ?it/s, est. speed input: 0.00 toks/s, output: 0.00 toks/s]"
      ]
     },
     "metadata": {},
     "output_type": "display_data"
    },
    {
     "name": "stdout",
     "output_type": "stream",
     "text": [
      "40/250 took 358.2851951122284 seconds.\n"
     ]
    },
    {
     "data": {
      "application/vnd.jupyter.widget-view+json": {
       "model_id": "ed2c80d3a14d4243bd8d391bf68dad2c",
       "version_major": 2,
       "version_minor": 0
      },
      "text/plain": [
       "Processed prompts:   0%|          | 0/20 [00:00<?, ?it/s, est. speed input: 0.00 toks/s, output: 0.00 toks/s]"
      ]
     },
     "metadata": {},
     "output_type": "display_data"
    },
    {
     "name": "stdout",
     "output_type": "stream",
     "text": [
      "60/250 took 521.3375172615051 seconds.\n"
     ]
    },
    {
     "data": {
      "application/vnd.jupyter.widget-view+json": {
       "model_id": "a8e15aa38ace40af9fc0c95bb61c7cfb",
       "version_major": 2,
       "version_minor": 0
      },
      "text/plain": [
       "Processed prompts:   0%|          | 0/20 [00:00<?, ?it/s, est. speed input: 0.00 toks/s, output: 0.00 toks/s]"
      ]
     },
     "metadata": {},
     "output_type": "display_data"
    },
    {
     "name": "stdout",
     "output_type": "stream",
     "text": [
      "80/250 took 705.7884941101074 seconds.\n"
     ]
    },
    {
     "data": {
      "application/vnd.jupyter.widget-view+json": {
       "model_id": "263fcf2f4c324dceb3ac4e7c0281551d",
       "version_major": 2,
       "version_minor": 0
      },
      "text/plain": [
       "Processed prompts:   0%|          | 0/20 [00:00<?, ?it/s, est. speed input: 0.00 toks/s, output: 0.00 toks/s]"
      ]
     },
     "metadata": {},
     "output_type": "display_data"
    },
    {
     "name": "stdout",
     "output_type": "stream",
     "text": [
      "100/250 took 860.3877248764038 seconds.\n"
     ]
    },
    {
     "data": {
      "application/vnd.jupyter.widget-view+json": {
       "model_id": "a7d1b131fafb4e8895a62016501520bc",
       "version_major": 2,
       "version_minor": 0
      },
      "text/plain": [
       "Processed prompts:   0%|          | 0/20 [00:00<?, ?it/s, est. speed input: 0.00 toks/s, output: 0.00 toks/s]"
      ]
     },
     "metadata": {},
     "output_type": "display_data"
    },
    {
     "name": "stdout",
     "output_type": "stream",
     "text": [
      "120/250 took 1030.423504114151 seconds.\n"
     ]
    },
    {
     "data": {
      "application/vnd.jupyter.widget-view+json": {
       "model_id": "0b97b7a45fd642d1b3ce7b1977ec9174",
       "version_major": 2,
       "version_minor": 0
      },
      "text/plain": [
       "Processed prompts:   0%|          | 0/20 [00:00<?, ?it/s, est. speed input: 0.00 toks/s, output: 0.00 toks/s]"
      ]
     },
     "metadata": {},
     "output_type": "display_data"
    },
    {
     "name": "stdout",
     "output_type": "stream",
     "text": [
      "140/250 took 1166.994117975235 seconds.\n"
     ]
    },
    {
     "data": {
      "application/vnd.jupyter.widget-view+json": {
       "model_id": "cb41e544e73640639d1ac1fd8e30ee4c",
       "version_major": 2,
       "version_minor": 0
      },
      "text/plain": [
       "Processed prompts:   0%|          | 0/20 [00:00<?, ?it/s, est. speed input: 0.00 toks/s, output: 0.00 toks/s]"
      ]
     },
     "metadata": {},
     "output_type": "display_data"
    },
    {
     "name": "stdout",
     "output_type": "stream",
     "text": [
      "160/250 took 1334.9625532627106 seconds.\n"
     ]
    },
    {
     "data": {
      "application/vnd.jupyter.widget-view+json": {
       "model_id": "c01d963abbf946fc8939f6bcd7dcb1c8",
       "version_major": 2,
       "version_minor": 0
      },
      "text/plain": [
       "Processed prompts:   0%|          | 0/20 [00:00<?, ?it/s, est. speed input: 0.00 toks/s, output: 0.00 toks/s]"
      ]
     },
     "metadata": {},
     "output_type": "display_data"
    },
    {
     "name": "stdout",
     "output_type": "stream",
     "text": [
      "180/250 took 1521.8679058551788 seconds.\n"
     ]
    },
    {
     "data": {
      "application/vnd.jupyter.widget-view+json": {
       "model_id": "cc80ba9e11004bf7a09f2e3f4e522a74",
       "version_major": 2,
       "version_minor": 0
      },
      "text/plain": [
       "Processed prompts:   0%|          | 0/20 [00:00<?, ?it/s, est. speed input: 0.00 toks/s, output: 0.00 toks/s]"
      ]
     },
     "metadata": {},
     "output_type": "display_data"
    },
    {
     "name": "stdout",
     "output_type": "stream",
     "text": [
      "200/250 took 1687.261680841446 seconds.\n"
     ]
    },
    {
     "data": {
      "application/vnd.jupyter.widget-view+json": {
       "model_id": "db63f2d8c3dd4625962ba8cbb7cb64fb",
       "version_major": 2,
       "version_minor": 0
      },
      "text/plain": [
       "Processed prompts:   0%|          | 0/20 [00:00<?, ?it/s, est. speed input: 0.00 toks/s, output: 0.00 toks/s]"
      ]
     },
     "metadata": {},
     "output_type": "display_data"
    },
    {
     "name": "stdout",
     "output_type": "stream",
     "text": [
      "220/250 took 1830.9535727500916 seconds.\n"
     ]
    },
    {
     "data": {
      "application/vnd.jupyter.widget-view+json": {
       "model_id": "dd311bcefab54eb9b0f1111ca559efd8",
       "version_major": 2,
       "version_minor": 0
      },
      "text/plain": [
       "Processed prompts:   0%|          | 0/20 [00:00<?, ?it/s, est. speed input: 0.00 toks/s, output: 0.00 toks/s]"
      ]
     },
     "metadata": {},
     "output_type": "display_data"
    },
    {
     "name": "stdout",
     "output_type": "stream",
     "text": [
      "240/250 took 1953.419945716858 seconds.\n"
     ]
    },
    {
     "data": {
      "application/vnd.jupyter.widget-view+json": {
       "model_id": "12d3eca2991e41619c8b740337fee1e4",
       "version_major": 2,
       "version_minor": 0
      },
      "text/plain": [
       "Processed prompts:   0%|          | 0/10 [00:00<?, ?it/s, est. speed input: 0.00 toks/s, output: 0.00 toks/s]"
      ]
     },
     "metadata": {},
     "output_type": "display_data"
    },
    {
     "name": "stdout",
     "output_type": "stream",
     "text": [
      "260/250 took 2063.718958377838 seconds.\n",
      "BBH_date_tag_question\n",
      "250\n",
      "250 dataset max len : 250\n"
     ]
    },
    {
     "data": {
      "application/vnd.jupyter.widget-view+json": {
       "model_id": "f948672650c343f68e55e397685ee76b",
       "version_major": 2,
       "version_minor": 0
      },
      "text/plain": [
       "Processed prompts:   0%|          | 0/20 [00:00<?, ?it/s, est. speed input: 0.00 toks/s, output: 0.00 toks/s]"
      ]
     },
     "metadata": {},
     "output_type": "display_data"
    },
    {
     "name": "stdout",
     "output_type": "stream",
     "text": [
      "20/250 took 257.98323464393616 seconds.\n"
     ]
    },
    {
     "data": {
      "application/vnd.jupyter.widget-view+json": {
       "model_id": "cdc93e97deef4ff2a2cf5f18c1ddd6eb",
       "version_major": 2,
       "version_minor": 0
      },
      "text/plain": [
       "Processed prompts:   0%|          | 0/20 [00:00<?, ?it/s, est. speed input: 0.00 toks/s, output: 0.00 toks/s]"
      ]
     },
     "metadata": {},
     "output_type": "display_data"
    },
    {
     "name": "stdout",
     "output_type": "stream",
     "text": [
      "40/250 took 544.8405702114105 seconds.\n"
     ]
    },
    {
     "data": {
      "application/vnd.jupyter.widget-view+json": {
       "model_id": "fd5f6a64110b493ebc5fa20d0cc46547",
       "version_major": 2,
       "version_minor": 0
      },
      "text/plain": [
       "Processed prompts:   0%|          | 0/20 [00:00<?, ?it/s, est. speed input: 0.00 toks/s, output: 0.00 toks/s]"
      ]
     },
     "metadata": {},
     "output_type": "display_data"
    },
    {
     "name": "stdout",
     "output_type": "stream",
     "text": [
      "60/250 took 804.070273399353 seconds.\n"
     ]
    },
    {
     "data": {
      "application/vnd.jupyter.widget-view+json": {
       "model_id": "681ffc18a2b3459fbaf1ee33cc9ac7d6",
       "version_major": 2,
       "version_minor": 0
      },
      "text/plain": [
       "Processed prompts:   0%|          | 0/20 [00:00<?, ?it/s, est. speed input: 0.00 toks/s, output: 0.00 toks/s]"
      ]
     },
     "metadata": {},
     "output_type": "display_data"
    },
    {
     "name": "stdout",
     "output_type": "stream",
     "text": [
      "80/250 took 1055.8651747703552 seconds.\n"
     ]
    },
    {
     "data": {
      "application/vnd.jupyter.widget-view+json": {
       "model_id": "40cc354905db41e68f98634c528628c7",
       "version_major": 2,
       "version_minor": 0
      },
      "text/plain": [
       "Processed prompts:   0%|          | 0/20 [00:00<?, ?it/s, est. speed input: 0.00 toks/s, output: 0.00 toks/s]"
      ]
     },
     "metadata": {},
     "output_type": "display_data"
    },
    {
     "name": "stdout",
     "output_type": "stream",
     "text": [
      "100/250 took 1288.6730165481567 seconds.\n"
     ]
    },
    {
     "data": {
      "application/vnd.jupyter.widget-view+json": {
       "model_id": "0b13e9495cf249c6a790bdd43a95f6f9",
       "version_major": 2,
       "version_minor": 0
      },
      "text/plain": [
       "Processed prompts:   0%|          | 0/20 [00:00<?, ?it/s, est. speed input: 0.00 toks/s, output: 0.00 toks/s]"
      ]
     },
     "metadata": {},
     "output_type": "display_data"
    },
    {
     "name": "stdout",
     "output_type": "stream",
     "text": [
      "120/250 took 1579.1695976257324 seconds.\n"
     ]
    },
    {
     "data": {
      "application/vnd.jupyter.widget-view+json": {
       "model_id": "8d077ed71a2d4f3890dbf7c4256d2f94",
       "version_major": 2,
       "version_minor": 0
      },
      "text/plain": [
       "Processed prompts:   0%|          | 0/20 [00:00<?, ?it/s, est. speed input: 0.00 toks/s, output: 0.00 toks/s]"
      ]
     },
     "metadata": {},
     "output_type": "display_data"
    },
    {
     "name": "stdout",
     "output_type": "stream",
     "text": [
      "140/250 took 1868.069880247116 seconds.\n"
     ]
    },
    {
     "data": {
      "application/vnd.jupyter.widget-view+json": {
       "model_id": "87c095b5b165436c8d2b1e8b57054d36",
       "version_major": 2,
       "version_minor": 0
      },
      "text/plain": [
       "Processed prompts:   0%|          | 0/20 [00:00<?, ?it/s, est. speed input: 0.00 toks/s, output: 0.00 toks/s]"
      ]
     },
     "metadata": {},
     "output_type": "display_data"
    },
    {
     "name": "stdout",
     "output_type": "stream",
     "text": [
      "160/250 took 2109.6596899032593 seconds.\n"
     ]
    },
    {
     "data": {
      "application/vnd.jupyter.widget-view+json": {
       "model_id": "2d030ea79682420290ffae6474624408",
       "version_major": 2,
       "version_minor": 0
      },
      "text/plain": [
       "Processed prompts:   0%|          | 0/20 [00:00<?, ?it/s, est. speed input: 0.00 toks/s, output: 0.00 toks/s]"
      ]
     },
     "metadata": {},
     "output_type": "display_data"
    },
    {
     "name": "stdout",
     "output_type": "stream",
     "text": [
      "180/250 took 2341.399539232254 seconds.\n"
     ]
    },
    {
     "data": {
      "application/vnd.jupyter.widget-view+json": {
       "model_id": "b3e14a50fc9740afa0602c35a7a80a96",
       "version_major": 2,
       "version_minor": 0
      },
      "text/plain": [
       "Processed prompts:   0%|          | 0/20 [00:00<?, ?it/s, est. speed input: 0.00 toks/s, output: 0.00 toks/s]"
      ]
     },
     "metadata": {},
     "output_type": "display_data"
    },
    {
     "name": "stdout",
     "output_type": "stream",
     "text": [
      "200/250 took 2572.84503030777 seconds.\n"
     ]
    },
    {
     "data": {
      "application/vnd.jupyter.widget-view+json": {
       "model_id": "a481a95de48742969f33f227caa7b2d3",
       "version_major": 2,
       "version_minor": 0
      },
      "text/plain": [
       "Processed prompts:   0%|          | 0/20 [00:00<?, ?it/s, est. speed input: 0.00 toks/s, output: 0.00 toks/s]"
      ]
     },
     "metadata": {},
     "output_type": "display_data"
    },
    {
     "name": "stdout",
     "output_type": "stream",
     "text": [
      "220/250 took 2846.578577518463 seconds.\n"
     ]
    },
    {
     "data": {
      "application/vnd.jupyter.widget-view+json": {
       "model_id": "0bfa7a7e76c041f59ffef4f33ae363bb",
       "version_major": 2,
       "version_minor": 0
      },
      "text/plain": [
       "Processed prompts:   0%|          | 0/20 [00:00<?, ?it/s, est. speed input: 0.00 toks/s, output: 0.00 toks/s]"
      ]
     },
     "metadata": {},
     "output_type": "display_data"
    },
    {
     "name": "stdout",
     "output_type": "stream",
     "text": [
      "240/250 took 3081.39946103096 seconds.\n"
     ]
    },
    {
     "data": {
      "application/vnd.jupyter.widget-view+json": {
       "model_id": "b646c4939c894315b60f7f18b9be8e04",
       "version_major": 2,
       "version_minor": 0
      },
      "text/plain": [
       "Processed prompts:   0%|          | 0/10 [00:00<?, ?it/s, est. speed input: 0.00 toks/s, output: 0.00 toks/s]"
      ]
     },
     "metadata": {},
     "output_type": "display_data"
    },
    {
     "name": "stdout",
     "output_type": "stream",
     "text": [
      "260/250 took 3218.691593170166 seconds.\n",
      "BBH_date_basic_question\n",
      "250\n",
      "250 dataset max len : 250\n"
     ]
    },
    {
     "data": {
      "application/vnd.jupyter.widget-view+json": {
       "model_id": "45a4ce3a543e405f83686a1258861016",
       "version_major": 2,
       "version_minor": 0
      },
      "text/plain": [
       "Processed prompts:   0%|          | 0/20 [00:00<?, ?it/s, est. speed input: 0.00 toks/s, output: 0.00 toks/s]"
      ]
     },
     "metadata": {},
     "output_type": "display_data"
    },
    {
     "name": "stdout",
     "output_type": "stream",
     "text": [
      "20/250 took 286.0594115257263 seconds.\n"
     ]
    },
    {
     "data": {
      "application/vnd.jupyter.widget-view+json": {
       "model_id": "0b08b2c484384dc3a814a66d6396d650",
       "version_major": 2,
       "version_minor": 0
      },
      "text/plain": [
       "Processed prompts:   0%|          | 0/20 [00:00<?, ?it/s, est. speed input: 0.00 toks/s, output: 0.00 toks/s]"
      ]
     },
     "metadata": {},
     "output_type": "display_data"
    },
    {
     "name": "stdout",
     "output_type": "stream",
     "text": [
      "40/250 took 606.3083264827728 seconds.\n"
     ]
    },
    {
     "data": {
      "application/vnd.jupyter.widget-view+json": {
       "model_id": "1cd95028ae5f45b0bd5d1939a63ed0d2",
       "version_major": 2,
       "version_minor": 0
      },
      "text/plain": [
       "Processed prompts:   0%|          | 0/20 [00:00<?, ?it/s, est. speed input: 0.00 toks/s, output: 0.00 toks/s]"
      ]
     },
     "metadata": {},
     "output_type": "display_data"
    },
    {
     "name": "stdout",
     "output_type": "stream",
     "text": [
      "60/250 took 870.245771408081 seconds.\n"
     ]
    },
    {
     "data": {
      "application/vnd.jupyter.widget-view+json": {
       "model_id": "dfa8276e6acb446a87fff585a89218bc",
       "version_major": 2,
       "version_minor": 0
      },
      "text/plain": [
       "Processed prompts:   0%|          | 0/20 [00:00<?, ?it/s, est. speed input: 0.00 toks/s, output: 0.00 toks/s]"
      ]
     },
     "metadata": {},
     "output_type": "display_data"
    },
    {
     "name": "stdout",
     "output_type": "stream",
     "text": [
      "80/250 took 1130.1085052490234 seconds.\n"
     ]
    },
    {
     "data": {
      "application/vnd.jupyter.widget-view+json": {
       "model_id": "144018e5ab754af19d0a4d37a9e929a8",
       "version_major": 2,
       "version_minor": 0
      },
      "text/plain": [
       "Processed prompts:   0%|          | 0/20 [00:00<?, ?it/s, est. speed input: 0.00 toks/s, output: 0.00 toks/s]"
      ]
     },
     "metadata": {},
     "output_type": "display_data"
    },
    {
     "name": "stdout",
     "output_type": "stream",
     "text": [
      "100/250 took 1402.7526104450226 seconds.\n"
     ]
    },
    {
     "data": {
      "application/vnd.jupyter.widget-view+json": {
       "model_id": "6b088e6631e848a5b996e71f75127e44",
       "version_major": 2,
       "version_minor": 0
      },
      "text/plain": [
       "Processed prompts:   0%|          | 0/20 [00:00<?, ?it/s, est. speed input: 0.00 toks/s, output: 0.00 toks/s]"
      ]
     },
     "metadata": {},
     "output_type": "display_data"
    },
    {
     "name": "stdout",
     "output_type": "stream",
     "text": [
      "120/250 took 1724.649810552597 seconds.\n"
     ]
    },
    {
     "data": {
      "application/vnd.jupyter.widget-view+json": {
       "model_id": "c8157dcfbe7e41eeae4b6c923d3177bf",
       "version_major": 2,
       "version_minor": 0
      },
      "text/plain": [
       "Processed prompts:   0%|          | 0/20 [00:00<?, ?it/s, est. speed input: 0.00 toks/s, output: 0.00 toks/s]"
      ]
     },
     "metadata": {},
     "output_type": "display_data"
    },
    {
     "name": "stdout",
     "output_type": "stream",
     "text": [
      "140/250 took 2001.9373199939728 seconds.\n"
     ]
    },
    {
     "data": {
      "application/vnd.jupyter.widget-view+json": {
       "model_id": "cdd1e06bb43449c69e5be7b9f352ae6c",
       "version_major": 2,
       "version_minor": 0
      },
      "text/plain": [
       "Processed prompts:   0%|          | 0/20 [00:00<?, ?it/s, est. speed input: 0.00 toks/s, output: 0.00 toks/s]"
      ]
     },
     "metadata": {},
     "output_type": "display_data"
    },
    {
     "name": "stdout",
     "output_type": "stream",
     "text": [
      "160/250 took 2277.204701900482 seconds.\n"
     ]
    },
    {
     "data": {
      "application/vnd.jupyter.widget-view+json": {
       "model_id": "37d07548339b4967ab62bbd29f348df1",
       "version_major": 2,
       "version_minor": 0
      },
      "text/plain": [
       "Processed prompts:   0%|          | 0/20 [00:00<?, ?it/s, est. speed input: 0.00 toks/s, output: 0.00 toks/s]"
      ]
     },
     "metadata": {},
     "output_type": "display_data"
    },
    {
     "name": "stdout",
     "output_type": "stream",
     "text": [
      "180/250 took 2519.8179607391357 seconds.\n"
     ]
    },
    {
     "data": {
      "application/vnd.jupyter.widget-view+json": {
       "model_id": "d9725816aedd4df582e33b0648122c17",
       "version_major": 2,
       "version_minor": 0
      },
      "text/plain": [
       "Processed prompts:   0%|          | 0/20 [00:00<?, ?it/s, est. speed input: 0.00 toks/s, output: 0.00 toks/s]"
      ]
     },
     "metadata": {},
     "output_type": "display_data"
    },
    {
     "name": "stdout",
     "output_type": "stream",
     "text": [
      "200/250 took 2760.268841981888 seconds.\n"
     ]
    },
    {
     "data": {
      "application/vnd.jupyter.widget-view+json": {
       "model_id": "a1336b67e1e14f76879593a4a57a2582",
       "version_major": 2,
       "version_minor": 0
      },
      "text/plain": [
       "Processed prompts:   0%|          | 0/20 [00:00<?, ?it/s, est. speed input: 0.00 toks/s, output: 0.00 toks/s]"
      ]
     },
     "metadata": {},
     "output_type": "display_data"
    },
    {
     "name": "stdout",
     "output_type": "stream",
     "text": [
      "220/250 took 3047.203106880188 seconds.\n"
     ]
    },
    {
     "data": {
      "application/vnd.jupyter.widget-view+json": {
       "model_id": "98208db0d5d646f3b6cc8a6e76f771c8",
       "version_major": 2,
       "version_minor": 0
      },
      "text/plain": [
       "Processed prompts:   0%|          | 0/20 [00:00<?, ?it/s, est. speed input: 0.00 toks/s, output: 0.00 toks/s]"
      ]
     },
     "metadata": {},
     "output_type": "display_data"
    },
    {
     "name": "stdout",
     "output_type": "stream",
     "text": [
      "240/250 took 3260.491677045822 seconds.\n"
     ]
    },
    {
     "data": {
      "application/vnd.jupyter.widget-view+json": {
       "model_id": "d7b8b6d4c97e4a659fe77f39b11b4178",
       "version_major": 2,
       "version_minor": 0
      },
      "text/plain": [
       "Processed prompts:   0%|          | 0/10 [00:00<?, ?it/s, est. speed input: 0.00 toks/s, output: 0.00 toks/s]"
      ]
     },
     "metadata": {},
     "output_type": "display_data"
    },
    {
     "name": "stdout",
     "output_type": "stream",
     "text": [
      "260/250 took 3383.0880823135376 seconds.\n",
      "ARC_tag_question\n",
      "300\n",
      "300 dataset max len : 300\n"
     ]
    },
    {
     "data": {
      "application/vnd.jupyter.widget-view+json": {
       "model_id": "bf365a1a576241ffa21a4f2d5850ce94",
       "version_major": 2,
       "version_minor": 0
      },
      "text/plain": [
       "Processed prompts:   0%|          | 0/20 [00:00<?, ?it/s, est. speed input: 0.00 toks/s, output: 0.00 toks/s]"
      ]
     },
     "metadata": {},
     "output_type": "display_data"
    },
    {
     "name": "stdout",
     "output_type": "stream",
     "text": [
      "20/300 took 129.81014847755432 seconds.\n"
     ]
    },
    {
     "data": {
      "application/vnd.jupyter.widget-view+json": {
       "model_id": "c46cce981da046b6ada0bfdab1da1ecd",
       "version_major": 2,
       "version_minor": 0
      },
      "text/plain": [
       "Processed prompts:   0%|          | 0/20 [00:00<?, ?it/s, est. speed input: 0.00 toks/s, output: 0.00 toks/s]"
      ]
     },
     "metadata": {},
     "output_type": "display_data"
    },
    {
     "name": "stdout",
     "output_type": "stream",
     "text": [
      "40/300 took 226.6906292438507 seconds.\n"
     ]
    },
    {
     "data": {
      "application/vnd.jupyter.widget-view+json": {
       "model_id": "a4eab26ddd36442b996c337aa31918ba",
       "version_major": 2,
       "version_minor": 0
      },
      "text/plain": [
       "Processed prompts:   0%|          | 0/20 [00:00<?, ?it/s, est. speed input: 0.00 toks/s, output: 0.00 toks/s]"
      ]
     },
     "metadata": {},
     "output_type": "display_data"
    },
    {
     "name": "stdout",
     "output_type": "stream",
     "text": [
      "60/300 took 337.75622057914734 seconds.\n"
     ]
    },
    {
     "data": {
      "application/vnd.jupyter.widget-view+json": {
       "model_id": "f0ffa267f29f4aa79c9e66a08c022a5d",
       "version_major": 2,
       "version_minor": 0
      },
      "text/plain": [
       "Processed prompts:   0%|          | 0/20 [00:00<?, ?it/s, est. speed input: 0.00 toks/s, output: 0.00 toks/s]"
      ]
     },
     "metadata": {},
     "output_type": "display_data"
    },
    {
     "name": "stdout",
     "output_type": "stream",
     "text": [
      "80/300 took 430.8148169517517 seconds.\n"
     ]
    },
    {
     "data": {
      "application/vnd.jupyter.widget-view+json": {
       "model_id": "9726f798792843f89c510f0499052280",
       "version_major": 2,
       "version_minor": 0
      },
      "text/plain": [
       "Processed prompts:   0%|          | 0/20 [00:00<?, ?it/s, est. speed input: 0.00 toks/s, output: 0.00 toks/s]"
      ]
     },
     "metadata": {},
     "output_type": "display_data"
    },
    {
     "name": "stdout",
     "output_type": "stream",
     "text": [
      "100/300 took 537.3091711997986 seconds.\n"
     ]
    },
    {
     "data": {
      "application/vnd.jupyter.widget-view+json": {
       "model_id": "8fccabb4e79d42d7948bcfacbd02486e",
       "version_major": 2,
       "version_minor": 0
      },
      "text/plain": [
       "Processed prompts:   0%|          | 0/20 [00:00<?, ?it/s, est. speed input: 0.00 toks/s, output: 0.00 toks/s]"
      ]
     },
     "metadata": {},
     "output_type": "display_data"
    },
    {
     "name": "stdout",
     "output_type": "stream",
     "text": [
      "120/300 took 628.8622739315033 seconds.\n"
     ]
    },
    {
     "data": {
      "application/vnd.jupyter.widget-view+json": {
       "model_id": "8184f24dbba64196918ee5147ae2f736",
       "version_major": 2,
       "version_minor": 0
      },
      "text/plain": [
       "Processed prompts:   0%|          | 0/20 [00:00<?, ?it/s, est. speed input: 0.00 toks/s, output: 0.00 toks/s]"
      ]
     },
     "metadata": {},
     "output_type": "display_data"
    },
    {
     "name": "stdout",
     "output_type": "stream",
     "text": [
      "140/300 took 712.2762396335602 seconds.\n"
     ]
    },
    {
     "data": {
      "application/vnd.jupyter.widget-view+json": {
       "model_id": "5d4ca0a09abe46eaa6aa0c9bd0a3a7e9",
       "version_major": 2,
       "version_minor": 0
      },
      "text/plain": [
       "Processed prompts:   0%|          | 0/20 [00:00<?, ?it/s, est. speed input: 0.00 toks/s, output: 0.00 toks/s]"
      ]
     },
     "metadata": {},
     "output_type": "display_data"
    },
    {
     "name": "stdout",
     "output_type": "stream",
     "text": [
      "160/300 took 819.6684327125549 seconds.\n"
     ]
    },
    {
     "data": {
      "application/vnd.jupyter.widget-view+json": {
       "model_id": "ed53b5a5925d48f6a8ab3073ac2483dc",
       "version_major": 2,
       "version_minor": 0
      },
      "text/plain": [
       "Processed prompts:   0%|          | 0/20 [00:00<?, ?it/s, est. speed input: 0.00 toks/s, output: 0.00 toks/s]"
      ]
     },
     "metadata": {},
     "output_type": "display_data"
    },
    {
     "name": "stdout",
     "output_type": "stream",
     "text": [
      "180/300 took 919.7108895778656 seconds.\n"
     ]
    },
    {
     "data": {
      "application/vnd.jupyter.widget-view+json": {
       "model_id": "effc2032f2d44c7e8c3b8823736cd466",
       "version_major": 2,
       "version_minor": 0
      },
      "text/plain": [
       "Processed prompts:   0%|          | 0/20 [00:00<?, ?it/s, est. speed input: 0.00 toks/s, output: 0.00 toks/s]"
      ]
     },
     "metadata": {},
     "output_type": "display_data"
    },
    {
     "name": "stdout",
     "output_type": "stream",
     "text": [
      "200/300 took 1015.8986461162567 seconds.\n"
     ]
    },
    {
     "data": {
      "application/vnd.jupyter.widget-view+json": {
       "model_id": "a5c8b25aca25477daf973ddaa43f2ee8",
       "version_major": 2,
       "version_minor": 0
      },
      "text/plain": [
       "Processed prompts:   0%|          | 0/20 [00:00<?, ?it/s, est. speed input: 0.00 toks/s, output: 0.00 toks/s]"
      ]
     },
     "metadata": {},
     "output_type": "display_data"
    },
    {
     "name": "stdout",
     "output_type": "stream",
     "text": [
      "220/300 took 1136.3580663204193 seconds.\n"
     ]
    },
    {
     "data": {
      "application/vnd.jupyter.widget-view+json": {
       "model_id": "7d461f6436004c4a9bad47ad54a45571",
       "version_major": 2,
       "version_minor": 0
      },
      "text/plain": [
       "Processed prompts:   0%|          | 0/20 [00:00<?, ?it/s, est. speed input: 0.00 toks/s, output: 0.00 toks/s]"
      ]
     },
     "metadata": {},
     "output_type": "display_data"
    },
    {
     "name": "stdout",
     "output_type": "stream",
     "text": [
      "240/300 took 1219.7805423736572 seconds.\n"
     ]
    },
    {
     "data": {
      "application/vnd.jupyter.widget-view+json": {
       "model_id": "c68b03e0bc274642a855dd7c0ac24540",
       "version_major": 2,
       "version_minor": 0
      },
      "text/plain": [
       "Processed prompts:   0%|          | 0/20 [00:00<?, ?it/s, est. speed input: 0.00 toks/s, output: 0.00 toks/s]"
      ]
     },
     "metadata": {},
     "output_type": "display_data"
    },
    {
     "name": "stdout",
     "output_type": "stream",
     "text": [
      "260/300 took 1297.337306022644 seconds.\n"
     ]
    },
    {
     "data": {
      "application/vnd.jupyter.widget-view+json": {
       "model_id": "a1a00e1a04734bf1b700ab61fb2cc0fe",
       "version_major": 2,
       "version_minor": 0
      },
      "text/plain": [
       "Processed prompts:   0%|          | 0/20 [00:00<?, ?it/s, est. speed input: 0.00 toks/s, output: 0.00 toks/s]"
      ]
     },
     "metadata": {},
     "output_type": "display_data"
    },
    {
     "name": "stdout",
     "output_type": "stream",
     "text": [
      "280/300 took 1379.1965444087982 seconds.\n"
     ]
    },
    {
     "data": {
      "application/vnd.jupyter.widget-view+json": {
       "model_id": "e12fcc96091f481c90f875bea46f9cc1",
       "version_major": 2,
       "version_minor": 0
      },
      "text/plain": [
       "Processed prompts:   0%|          | 0/20 [00:00<?, ?it/s, est. speed input: 0.00 toks/s, output: 0.00 toks/s]"
      ]
     },
     "metadata": {},
     "output_type": "display_data"
    },
    {
     "name": "stdout",
     "output_type": "stream",
     "text": [
      "300/300 took 1508.9000642299652 seconds.\n",
      "TAL_tag_question\n",
      "300\n",
      "300 dataset max len : 300\n"
     ]
    },
    {
     "data": {
      "application/vnd.jupyter.widget-view+json": {
       "model_id": "f105a57ba2654bf98b100f4d40056f61",
       "version_major": 2,
       "version_minor": 0
      },
      "text/plain": [
       "Processed prompts:   0%|          | 0/20 [00:00<?, ?it/s, est. speed input: 0.00 toks/s, output: 0.00 toks/s]"
      ]
     },
     "metadata": {},
     "output_type": "display_data"
    },
    {
     "name": "stdout",
     "output_type": "stream",
     "text": [
      "20/300 took 555.3493144512177 seconds.\n"
     ]
    },
    {
     "data": {
      "application/vnd.jupyter.widget-view+json": {
       "model_id": "34717d7d8e084160a7accec3a4b5dd3d",
       "version_major": 2,
       "version_minor": 0
      },
      "text/plain": [
       "Processed prompts:   0%|          | 0/20 [00:00<?, ?it/s, est. speed input: 0.00 toks/s, output: 0.00 toks/s]"
      ]
     },
     "metadata": {},
     "output_type": "display_data"
    },
    {
     "name": "stdout",
     "output_type": "stream",
     "text": [
      "40/300 took 820.2472035884857 seconds.\n"
     ]
    },
    {
     "data": {
      "application/vnd.jupyter.widget-view+json": {
       "model_id": "9fa27d3ffd5841a8bfb06b33e93d2597",
       "version_major": 2,
       "version_minor": 0
      },
      "text/plain": [
       "Processed prompts:   0%|          | 0/20 [00:00<?, ?it/s, est. speed input: 0.00 toks/s, output: 0.00 toks/s]"
      ]
     },
     "metadata": {},
     "output_type": "display_data"
    },
    {
     "name": "stdout",
     "output_type": "stream",
     "text": [
      "60/300 took 1100.2362637519836 seconds.\n"
     ]
    },
    {
     "data": {
      "application/vnd.jupyter.widget-view+json": {
       "model_id": "ce887b5c8f2c46cf84b06297845edf68",
       "version_major": 2,
       "version_minor": 0
      },
      "text/plain": [
       "Processed prompts:   0%|          | 0/20 [00:00<?, ?it/s, est. speed input: 0.00 toks/s, output: 0.00 toks/s]"
      ]
     },
     "metadata": {},
     "output_type": "display_data"
    },
    {
     "name": "stdout",
     "output_type": "stream",
     "text": [
      "80/300 took 1402.8364288806915 seconds.\n"
     ]
    },
    {
     "data": {
      "application/vnd.jupyter.widget-view+json": {
       "model_id": "65812b28966e45b5a54436bf7a7b7da8",
       "version_major": 2,
       "version_minor": 0
      },
      "text/plain": [
       "Processed prompts:   0%|          | 0/20 [00:00<?, ?it/s, est. speed input: 0.00 toks/s, output: 0.00 toks/s]"
      ]
     },
     "metadata": {},
     "output_type": "display_data"
    },
    {
     "name": "stdout",
     "output_type": "stream",
     "text": [
      "100/300 took 1722.0352954864502 seconds.\n"
     ]
    },
    {
     "data": {
      "application/vnd.jupyter.widget-view+json": {
       "model_id": "e7777253e2aa44a3a837f02030345568",
       "version_major": 2,
       "version_minor": 0
      },
      "text/plain": [
       "Processed prompts:   0%|          | 0/20 [00:00<?, ?it/s, est. speed input: 0.00 toks/s, output: 0.00 toks/s]"
      ]
     },
     "metadata": {},
     "output_type": "display_data"
    },
    {
     "name": "stdout",
     "output_type": "stream",
     "text": [
      "120/300 took 2069.616723060608 seconds.\n"
     ]
    },
    {
     "data": {
      "application/vnd.jupyter.widget-view+json": {
       "model_id": "08ccb6796b71419a9bd3933894ff3220",
       "version_major": 2,
       "version_minor": 0
      },
      "text/plain": [
       "Processed prompts:   0%|          | 0/20 [00:00<?, ?it/s, est. speed input: 0.00 toks/s, output: 0.00 toks/s]"
      ]
     },
     "metadata": {},
     "output_type": "display_data"
    },
    {
     "name": "stdout",
     "output_type": "stream",
     "text": [
      "140/300 took 2454.467635154724 seconds.\n"
     ]
    },
    {
     "data": {
      "application/vnd.jupyter.widget-view+json": {
       "model_id": "8ace68a9f4754416b12ae6b3117881a9",
       "version_major": 2,
       "version_minor": 0
      },
      "text/plain": [
       "Processed prompts:   0%|          | 0/20 [00:00<?, ?it/s, est. speed input: 0.00 toks/s, output: 0.00 toks/s]"
      ]
     },
     "metadata": {},
     "output_type": "display_data"
    },
    {
     "name": "stdout",
     "output_type": "stream",
     "text": [
      "160/300 took 2690.8052003383636 seconds.\n"
     ]
    },
    {
     "data": {
      "application/vnd.jupyter.widget-view+json": {
       "model_id": "447dc208f94d40ac85e975f6ea34bb20",
       "version_major": 2,
       "version_minor": 0
      },
      "text/plain": [
       "Processed prompts:   0%|          | 0/20 [00:00<?, ?it/s, est. speed input: 0.00 toks/s, output: 0.00 toks/s]"
      ]
     },
     "metadata": {},
     "output_type": "display_data"
    },
    {
     "name": "stdout",
     "output_type": "stream",
     "text": [
      "180/300 took 3238.1966786384583 seconds.\n"
     ]
    },
    {
     "data": {
      "application/vnd.jupyter.widget-view+json": {
       "model_id": "fb7252c0ccb84352806834fbf7402ee4",
       "version_major": 2,
       "version_minor": 0
      },
      "text/plain": [
       "Processed prompts:   0%|          | 0/20 [00:00<?, ?it/s, est. speed input: 0.00 toks/s, output: 0.00 toks/s]"
      ]
     },
     "metadata": {},
     "output_type": "display_data"
    },
    {
     "name": "stdout",
     "output_type": "stream",
     "text": [
      "200/300 took 3588.3353304862976 seconds.\n"
     ]
    },
    {
     "data": {
      "application/vnd.jupyter.widget-view+json": {
       "model_id": "5500bbf258394b309fb800d94aca3b46",
       "version_major": 2,
       "version_minor": 0
      },
      "text/plain": [
       "Processed prompts:   0%|          | 0/20 [00:00<?, ?it/s, est. speed input: 0.00 toks/s, output: 0.00 toks/s]"
      ]
     },
     "metadata": {},
     "output_type": "display_data"
    },
    {
     "name": "stdout",
     "output_type": "stream",
     "text": [
      "220/300 took 3910.5598542690277 seconds.\n"
     ]
    },
    {
     "data": {
      "application/vnd.jupyter.widget-view+json": {
       "model_id": "2ec988764e484b098b3f65ab4bbb1bae",
       "version_major": 2,
       "version_minor": 0
      },
      "text/plain": [
       "Processed prompts:   0%|          | 0/20 [00:00<?, ?it/s, est. speed input: 0.00 toks/s, output: 0.00 toks/s]"
      ]
     },
     "metadata": {},
     "output_type": "display_data"
    },
    {
     "name": "stdout",
     "output_type": "stream",
     "text": [
      "240/300 took 4173.4139811992645 seconds.\n"
     ]
    },
    {
     "data": {
      "application/vnd.jupyter.widget-view+json": {
       "model_id": "688e634a792449d39bd8d375fc160271",
       "version_major": 2,
       "version_minor": 0
      },
      "text/plain": [
       "Processed prompts:   0%|          | 0/20 [00:00<?, ?it/s, est. speed input: 0.00 toks/s, output: 0.00 toks/s]"
      ]
     },
     "metadata": {},
     "output_type": "display_data"
    },
    {
     "name": "stdout",
     "output_type": "stream",
     "text": [
      "260/300 took 4436.142474889755 seconds.\n"
     ]
    },
    {
     "data": {
      "application/vnd.jupyter.widget-view+json": {
       "model_id": "b757216889214ff8aca5ff4fee799d93",
       "version_major": 2,
       "version_minor": 0
      },
      "text/plain": [
       "Processed prompts:   0%|          | 0/20 [00:00<?, ?it/s, est. speed input: 0.00 toks/s, output: 0.00 toks/s]"
      ]
     },
     "metadata": {},
     "output_type": "display_data"
    },
    {
     "name": "stdout",
     "output_type": "stream",
     "text": [
      "280/300 took 4766.316823720932 seconds.\n"
     ]
    },
    {
     "data": {
      "application/vnd.jupyter.widget-view+json": {
       "model_id": "30a83be83ac140798f03a580696fdde4",
       "version_major": 2,
       "version_minor": 0
      },
      "text/plain": [
       "Processed prompts:   0%|          | 0/20 [00:00<?, ?it/s, est. speed input: 0.00 toks/s, output: 0.00 toks/s]"
      ]
     },
     "metadata": {},
     "output_type": "display_data"
    },
    {
     "name": "stdout",
     "output_type": "stream",
     "text": [
      "300/300 took 5024.981263875961 seconds.\n",
      "MMLU_college_medicine_tag_question\n",
      "173\n",
      "173 dataset max len : 173\n"
     ]
    },
    {
     "data": {
      "application/vnd.jupyter.widget-view+json": {
       "model_id": "3ff99bb47eaf4779bb6ecad441fba0c0",
       "version_major": 2,
       "version_minor": 0
      },
      "text/plain": [
       "Processed prompts:   0%|          | 0/20 [00:00<?, ?it/s, est. speed input: 0.00 toks/s, output: 0.00 toks/s]"
      ]
     },
     "metadata": {},
     "output_type": "display_data"
    },
    {
     "name": "stdout",
     "output_type": "stream",
     "text": [
      "20/173 took 128.78730988502502 seconds.\n"
     ]
    },
    {
     "data": {
      "application/vnd.jupyter.widget-view+json": {
       "model_id": "41d15cfb3ec1435b9e65a53c467cc426",
       "version_major": 2,
       "version_minor": 0
      },
      "text/plain": [
       "Processed prompts:   0%|          | 0/20 [00:00<?, ?it/s, est. speed input: 0.00 toks/s, output: 0.00 toks/s]"
      ]
     },
     "metadata": {},
     "output_type": "display_data"
    },
    {
     "name": "stdout",
     "output_type": "stream",
     "text": [
      "40/173 took 368.4316351413727 seconds.\n"
     ]
    },
    {
     "data": {
      "application/vnd.jupyter.widget-view+json": {
       "model_id": "8db068d2b5e2452f8dbc49ad260f2e21",
       "version_major": 2,
       "version_minor": 0
      },
      "text/plain": [
       "Processed prompts:   0%|          | 0/20 [00:00<?, ?it/s, est. speed input: 0.00 toks/s, output: 0.00 toks/s]"
      ]
     },
     "metadata": {},
     "output_type": "display_data"
    },
    {
     "name": "stdout",
     "output_type": "stream",
     "text": [
      "60/173 took 540.5226986408234 seconds.\n"
     ]
    },
    {
     "data": {
      "application/vnd.jupyter.widget-view+json": {
       "model_id": "e0be5fb62ee84501903f04375e3d68ea",
       "version_major": 2,
       "version_minor": 0
      },
      "text/plain": [
       "Processed prompts:   0%|          | 0/20 [00:00<?, ?it/s, est. speed input: 0.00 toks/s, output: 0.00 toks/s]"
      ]
     },
     "metadata": {},
     "output_type": "display_data"
    },
    {
     "name": "stdout",
     "output_type": "stream",
     "text": [
      "80/173 took 661.3951790332794 seconds.\n"
     ]
    },
    {
     "data": {
      "application/vnd.jupyter.widget-view+json": {
       "model_id": "3d55e67b307949ac8f9a40c43d887e7b",
       "version_major": 2,
       "version_minor": 0
      },
      "text/plain": [
       "Processed prompts:   0%|          | 0/20 [00:00<?, ?it/s, est. speed input: 0.00 toks/s, output: 0.00 toks/s]"
      ]
     },
     "metadata": {},
     "output_type": "display_data"
    },
    {
     "name": "stdout",
     "output_type": "stream",
     "text": [
      "100/173 took 806.5344400405884 seconds.\n"
     ]
    },
    {
     "data": {
      "application/vnd.jupyter.widget-view+json": {
       "model_id": "d3e764883e844d688fcdb0079cda7eaf",
       "version_major": 2,
       "version_minor": 0
      },
      "text/plain": [
       "Processed prompts:   0%|          | 0/20 [00:00<?, ?it/s, est. speed input: 0.00 toks/s, output: 0.00 toks/s]"
      ]
     },
     "metadata": {},
     "output_type": "display_data"
    },
    {
     "name": "stdout",
     "output_type": "stream",
     "text": [
      "120/173 took 927.1379804611206 seconds.\n"
     ]
    },
    {
     "data": {
      "application/vnd.jupyter.widget-view+json": {
       "model_id": "039d77ec4f0149e1b04d9dfa66e52831",
       "version_major": 2,
       "version_minor": 0
      },
      "text/plain": [
       "Processed prompts:   0%|          | 0/20 [00:00<?, ?it/s, est. speed input: 0.00 toks/s, output: 0.00 toks/s]"
      ]
     },
     "metadata": {},
     "output_type": "display_data"
    },
    {
     "name": "stdout",
     "output_type": "stream",
     "text": [
      "140/173 took 1038.7733073234558 seconds.\n"
     ]
    },
    {
     "data": {
      "application/vnd.jupyter.widget-view+json": {
       "model_id": "5e91b0d668ff4625bca8afcc7b8f626f",
       "version_major": 2,
       "version_minor": 0
      },
      "text/plain": [
       "Processed prompts:   0%|          | 0/20 [00:00<?, ?it/s, est. speed input: 0.00 toks/s, output: 0.00 toks/s]"
      ]
     },
     "metadata": {},
     "output_type": "display_data"
    },
    {
     "name": "stdout",
     "output_type": "stream",
     "text": [
      "160/173 took 1139.6107337474823 seconds.\n"
     ]
    },
    {
     "data": {
      "application/vnd.jupyter.widget-view+json": {
       "model_id": "a2ce000419d24cc99bdc7e4428ee754a",
       "version_major": 2,
       "version_minor": 0
      },
      "text/plain": [
       "Processed prompts:   0%|          | 0/13 [00:00<?, ?it/s, est. speed input: 0.00 toks/s, output: 0.00 toks/s]"
      ]
     },
     "metadata": {},
     "output_type": "display_data"
    },
    {
     "name": "stdout",
     "output_type": "stream",
     "text": [
      "180/173 took 1280.110846042633 seconds.\n",
      "MMLU_high_physics_tag_question\n",
      "151\n",
      "151 dataset max len : 151\n"
     ]
    },
    {
     "data": {
      "application/vnd.jupyter.widget-view+json": {
       "model_id": "ea4730aad03a45119621a650326a1359",
       "version_major": 2,
       "version_minor": 0
      },
      "text/plain": [
       "Processed prompts:   0%|          | 0/20 [00:00<?, ?it/s, est. speed input: 0.00 toks/s, output: 0.00 toks/s]"
      ]
     },
     "metadata": {},
     "output_type": "display_data"
    },
    {
     "name": "stdout",
     "output_type": "stream",
     "text": [
      "20/151 took 226.88405418395996 seconds.\n"
     ]
    },
    {
     "data": {
      "application/vnd.jupyter.widget-view+json": {
       "model_id": "880917a309464432aef917ee80e0589f",
       "version_major": 2,
       "version_minor": 0
      },
      "text/plain": [
       "Processed prompts:   0%|          | 0/20 [00:00<?, ?it/s, est. speed input: 0.00 toks/s, output: 0.00 toks/s]"
      ]
     },
     "metadata": {},
     "output_type": "display_data"
    },
    {
     "name": "stdout",
     "output_type": "stream",
     "text": [
      "40/151 took 408.7718815803528 seconds.\n"
     ]
    },
    {
     "data": {
      "application/vnd.jupyter.widget-view+json": {
       "model_id": "9c4d5636994f4f028217023187052df1",
       "version_major": 2,
       "version_minor": 0
      },
      "text/plain": [
       "Processed prompts:   0%|          | 0/20 [00:00<?, ?it/s, est. speed input: 0.00 toks/s, output: 0.00 toks/s]"
      ]
     },
     "metadata": {},
     "output_type": "display_data"
    },
    {
     "name": "stdout",
     "output_type": "stream",
     "text": [
      "60/151 took 643.1994044780731 seconds.\n"
     ]
    },
    {
     "data": {
      "application/vnd.jupyter.widget-view+json": {
       "model_id": "ef8a117f08174504a0181b2cd5fe4c75",
       "version_major": 2,
       "version_minor": 0
      },
      "text/plain": [
       "Processed prompts:   0%|          | 0/20 [00:00<?, ?it/s, est. speed input: 0.00 toks/s, output: 0.00 toks/s]"
      ]
     },
     "metadata": {},
     "output_type": "display_data"
    },
    {
     "name": "stdout",
     "output_type": "stream",
     "text": [
      "80/151 took 864.4454281330109 seconds.\n"
     ]
    },
    {
     "data": {
      "application/vnd.jupyter.widget-view+json": {
       "model_id": "fc9841de8e2f4db4acb4f47aacbe7777",
       "version_major": 2,
       "version_minor": 0
      },
      "text/plain": [
       "Processed prompts:   0%|          | 0/20 [00:00<?, ?it/s, est. speed input: 0.00 toks/s, output: 0.00 toks/s]"
      ]
     },
     "metadata": {},
     "output_type": "display_data"
    },
    {
     "name": "stdout",
     "output_type": "stream",
     "text": [
      "100/151 took 1118.3974206447601 seconds.\n"
     ]
    },
    {
     "data": {
      "application/vnd.jupyter.widget-view+json": {
       "model_id": "299f92fe0a5c4a0eb393fe9c12fe3925",
       "version_major": 2,
       "version_minor": 0
      },
      "text/plain": [
       "Processed prompts:   0%|          | 0/20 [00:00<?, ?it/s, est. speed input: 0.00 toks/s, output: 0.00 toks/s]"
      ]
     },
     "metadata": {},
     "output_type": "display_data"
    },
    {
     "name": "stdout",
     "output_type": "stream",
     "text": [
      "120/151 took 1355.2706673145294 seconds.\n"
     ]
    },
    {
     "data": {
      "application/vnd.jupyter.widget-view+json": {
       "model_id": "69bf9545079b4535a6cbfc6c540d7d01",
       "version_major": 2,
       "version_minor": 0
      },
      "text/plain": [
       "Processed prompts:   0%|          | 0/20 [00:00<?, ?it/s, est. speed input: 0.00 toks/s, output: 0.00 toks/s]"
      ]
     },
     "metadata": {},
     "output_type": "display_data"
    },
    {
     "name": "stdout",
     "output_type": "stream",
     "text": [
      "140/151 took 1553.8984627723694 seconds.\n"
     ]
    },
    {
     "data": {
      "application/vnd.jupyter.widget-view+json": {
       "model_id": "98a91ff1d03740f7bb9869bf1f0c6cdb",
       "version_major": 2,
       "version_minor": 0
      },
      "text/plain": [
       "Processed prompts:   0%|          | 0/11 [00:00<?, ?it/s, est. speed input: 0.00 toks/s, output: 0.00 toks/s]"
      ]
     },
     "metadata": {},
     "output_type": "display_data"
    },
    {
     "name": "stdout",
     "output_type": "stream",
     "text": [
      "160/151 took 1716.7776229381561 seconds.\n",
      "MMLU_college_physics_tag_question\n",
      "151\n",
      "151 dataset max len : 151\n"
     ]
    },
    {
     "data": {
      "application/vnd.jupyter.widget-view+json": {
       "model_id": "7977a02350874cd1a85f995762b5284f",
       "version_major": 2,
       "version_minor": 0
      },
      "text/plain": [
       "Processed prompts:   0%|          | 0/20 [00:00<?, ?it/s, est. speed input: 0.00 toks/s, output: 0.00 toks/s]"
      ]
     },
     "metadata": {},
     "output_type": "display_data"
    },
    {
     "name": "stdout",
     "output_type": "stream",
     "text": [
      "20/151 took 241.75471997261047 seconds.\n"
     ]
    },
    {
     "data": {
      "application/vnd.jupyter.widget-view+json": {
       "model_id": "e38b5f203a15408bbea200065c006500",
       "version_major": 2,
       "version_minor": 0
      },
      "text/plain": [
       "Processed prompts:   0%|          | 0/20 [00:00<?, ?it/s, est. speed input: 0.00 toks/s, output: 0.00 toks/s]"
      ]
     },
     "metadata": {},
     "output_type": "display_data"
    },
    {
     "name": "stdout",
     "output_type": "stream",
     "text": [
      "40/151 took 441.36986112594604 seconds.\n"
     ]
    },
    {
     "data": {
      "application/vnd.jupyter.widget-view+json": {
       "model_id": "a88be983a84f48c692776961c9bd2acd",
       "version_major": 2,
       "version_minor": 0
      },
      "text/plain": [
       "Processed prompts:   0%|          | 0/20 [00:00<?, ?it/s, est. speed input: 0.00 toks/s, output: 0.00 toks/s]"
      ]
     },
     "metadata": {},
     "output_type": "display_data"
    },
    {
     "name": "stdout",
     "output_type": "stream",
     "text": [
      "60/151 took 672.2081696987152 seconds.\n"
     ]
    },
    {
     "data": {
      "application/vnd.jupyter.widget-view+json": {
       "model_id": "c8786d0e7b414ffb885deb2155b267b8",
       "version_major": 2,
       "version_minor": 0
      },
      "text/plain": [
       "Processed prompts:   0%|          | 0/20 [00:00<?, ?it/s, est. speed input: 0.00 toks/s, output: 0.00 toks/s]"
      ]
     },
     "metadata": {},
     "output_type": "display_data"
    },
    {
     "name": "stdout",
     "output_type": "stream",
     "text": [
      "80/151 took 852.9490869045258 seconds.\n"
     ]
    },
    {
     "data": {
      "application/vnd.jupyter.widget-view+json": {
       "model_id": "df9739eb8fd24634a1df850338d029ac",
       "version_major": 2,
       "version_minor": 0
      },
      "text/plain": [
       "Processed prompts:   0%|          | 0/20 [00:00<?, ?it/s, est. speed input: 0.00 toks/s, output: 0.00 toks/s]"
      ]
     },
     "metadata": {},
     "output_type": "display_data"
    },
    {
     "name": "stdout",
     "output_type": "stream",
     "text": [
      "100/151 took 1127.09348654747 seconds.\n"
     ]
    },
    {
     "data": {
      "application/vnd.jupyter.widget-view+json": {
       "model_id": "be2b067033c646ac996886b43671cff7",
       "version_major": 2,
       "version_minor": 0
      },
      "text/plain": [
       "Processed prompts:   0%|          | 0/20 [00:00<?, ?it/s, est. speed input: 0.00 toks/s, output: 0.00 toks/s]"
      ]
     },
     "metadata": {},
     "output_type": "display_data"
    },
    {
     "name": "stdout",
     "output_type": "stream",
     "text": [
      "120/151 took 1339.3187968730927 seconds.\n"
     ]
    },
    {
     "data": {
      "application/vnd.jupyter.widget-view+json": {
       "model_id": "f98b361638c44094ab4fcf9e281a862d",
       "version_major": 2,
       "version_minor": 0
      },
      "text/plain": [
       "Processed prompts:   0%|          | 0/20 [00:00<?, ?it/s, est. speed input: 0.00 toks/s, output: 0.00 toks/s]"
      ]
     },
     "metadata": {},
     "output_type": "display_data"
    },
    {
     "name": "stdout",
     "output_type": "stream",
     "text": [
      "140/151 took 1522.1897594928741 seconds.\n"
     ]
    },
    {
     "data": {
      "application/vnd.jupyter.widget-view+json": {
       "model_id": "5e4f4e22b8504261b77d934d739fa242",
       "version_major": 2,
       "version_minor": 0
      },
      "text/plain": [
       "Processed prompts:   0%|          | 0/11 [00:00<?, ?it/s, est. speed input: 0.00 toks/s, output: 0.00 toks/s]"
      ]
     },
     "metadata": {},
     "output_type": "display_data"
    },
    {
     "name": "stdout",
     "output_type": "stream",
     "text": [
      "160/151 took 1697.4234743118286 seconds.\n",
      "MMLU_college_medicine_basic_question\n",
      "173\n",
      "173 dataset max len : 173\n"
     ]
    },
    {
     "data": {
      "application/vnd.jupyter.widget-view+json": {
       "model_id": "434ed5a5a7d44e8aa0a62598c754f85a",
       "version_major": 2,
       "version_minor": 0
      },
      "text/plain": [
       "Processed prompts:   0%|          | 0/20 [00:00<?, ?it/s, est. speed input: 0.00 toks/s, output: 0.00 toks/s]"
      ]
     },
     "metadata": {},
     "output_type": "display_data"
    },
    {
     "name": "stdout",
     "output_type": "stream",
     "text": [
      "20/173 took 166.16045355796814 seconds.\n"
     ]
    },
    {
     "data": {
      "application/vnd.jupyter.widget-view+json": {
       "model_id": "3ee65e8e373344f38c36b4952a4900a7",
       "version_major": 2,
       "version_minor": 0
      },
      "text/plain": [
       "Processed prompts:   0%|          | 0/20 [00:00<?, ?it/s, est. speed input: 0.00 toks/s, output: 0.00 toks/s]"
      ]
     },
     "metadata": {},
     "output_type": "display_data"
    },
    {
     "name": "stdout",
     "output_type": "stream",
     "text": [
      "40/173 took 389.0909583568573 seconds.\n"
     ]
    },
    {
     "data": {
      "application/vnd.jupyter.widget-view+json": {
       "model_id": "c9ffae1e34f34fdc97de51a07a166942",
       "version_major": 2,
       "version_minor": 0
      },
      "text/plain": [
       "Processed prompts:   0%|          | 0/20 [00:00<?, ?it/s, est. speed input: 0.00 toks/s, output: 0.00 toks/s]"
      ]
     },
     "metadata": {},
     "output_type": "display_data"
    },
    {
     "name": "stdout",
     "output_type": "stream",
     "text": [
      "60/173 took 553.4808735847473 seconds.\n"
     ]
    },
    {
     "data": {
      "application/vnd.jupyter.widget-view+json": {
       "model_id": "9d0ea71f03264e088fd29edaf4eecf35",
       "version_major": 2,
       "version_minor": 0
      },
      "text/plain": [
       "Processed prompts:   0%|          | 0/20 [00:00<?, ?it/s, est. speed input: 0.00 toks/s, output: 0.00 toks/s]"
      ]
     },
     "metadata": {},
     "output_type": "display_data"
    },
    {
     "name": "stdout",
     "output_type": "stream",
     "text": [
      "100/173 took 820.545960187912 seconds.\n"
     ]
    },
    {
     "data": {
      "application/vnd.jupyter.widget-view+json": {
       "model_id": "4e9c4d42f4a34401b8c61659bf37beff",
       "version_major": 2,
       "version_minor": 0
      },
      "text/plain": [
       "Processed prompts:   0%|          | 0/20 [00:00<?, ?it/s, est. speed input: 0.00 toks/s, output: 0.00 toks/s]"
      ]
     },
     "metadata": {},
     "output_type": "display_data"
    },
    {
     "name": "stdout",
     "output_type": "stream",
     "text": [
      "120/173 took 939.4392855167389 seconds.\n"
     ]
    },
    {
     "data": {
      "application/vnd.jupyter.widget-view+json": {
       "model_id": "7272b3178a1045189b7f39f26cd38336",
       "version_major": 2,
       "version_minor": 0
      },
      "text/plain": [
       "Processed prompts:   0%|          | 0/20 [00:00<?, ?it/s, est. speed input: 0.00 toks/s, output: 0.00 toks/s]"
      ]
     },
     "metadata": {},
     "output_type": "display_data"
    },
    {
     "name": "stdout",
     "output_type": "stream",
     "text": [
      "140/173 took 1043.3998210430145 seconds.\n"
     ]
    },
    {
     "data": {
      "application/vnd.jupyter.widget-view+json": {
       "model_id": "5a5b3a1b3a75458eb4f9461749ef86b0",
       "version_major": 2,
       "version_minor": 0
      },
      "text/plain": [
       "Processed prompts:   0%|          | 0/20 [00:00<?, ?it/s, est. speed input: 0.00 toks/s, output: 0.00 toks/s]"
      ]
     },
     "metadata": {},
     "output_type": "display_data"
    },
    {
     "name": "stdout",
     "output_type": "stream",
     "text": [
      "160/173 took 1151.6586561203003 seconds.\n"
     ]
    },
    {
     "data": {
      "application/vnd.jupyter.widget-view+json": {
       "model_id": "1171f2e6b8a6472b8a36128ae95a6083",
       "version_major": 2,
       "version_minor": 0
      },
      "text/plain": [
       "Processed prompts:   0%|          | 0/13 [00:00<?, ?it/s, est. speed input: 0.00 toks/s, output: 0.00 toks/s]"
      ]
     },
     "metadata": {},
     "output_type": "display_data"
    },
    {
     "name": "stdout",
     "output_type": "stream",
     "text": [
      "180/173 took 1290.4703283309937 seconds.\n",
      "MMLU_high_physics_basic_question\n",
      "151\n",
      "151 dataset max len : 151\n"
     ]
    },
    {
     "data": {
      "application/vnd.jupyter.widget-view+json": {
       "model_id": "1da54985dd7f460b8da2c97385b4642f",
       "version_major": 2,
       "version_minor": 0
      },
      "text/plain": [
       "Processed prompts:   0%|          | 0/20 [00:00<?, ?it/s, est. speed input: 0.00 toks/s, output: 0.00 toks/s]"
      ]
     },
     "metadata": {},
     "output_type": "display_data"
    },
    {
     "name": "stdout",
     "output_type": "stream",
     "text": [
      "20/151 took 231.85320472717285 seconds.\n"
     ]
    },
    {
     "data": {
      "application/vnd.jupyter.widget-view+json": {
       "model_id": "5ae7b9f708134bff8fc014961871edc1",
       "version_major": 2,
       "version_minor": 0
      },
      "text/plain": [
       "Processed prompts:   0%|          | 0/20 [00:00<?, ?it/s, est. speed input: 0.00 toks/s, output: 0.00 toks/s]"
      ]
     },
     "metadata": {},
     "output_type": "display_data"
    },
    {
     "name": "stdout",
     "output_type": "stream",
     "text": [
      "40/151 took 439.7598867416382 seconds.\n"
     ]
    },
    {
     "data": {
      "application/vnd.jupyter.widget-view+json": {
       "model_id": "e6adec36ca0a4a8caf85c98960a0239c",
       "version_major": 2,
       "version_minor": 0
      },
      "text/plain": [
       "Processed prompts:   0%|          | 0/20 [00:00<?, ?it/s, est. speed input: 0.00 toks/s, output: 0.00 toks/s]"
      ]
     },
     "metadata": {},
     "output_type": "display_data"
    },
    {
     "name": "stdout",
     "output_type": "stream",
     "text": [
      "60/151 took 680.9710764884949 seconds.\n"
     ]
    },
    {
     "data": {
      "application/vnd.jupyter.widget-view+json": {
       "model_id": "cce0f41b82ee4aa480cb71e2c75a86fc",
       "version_major": 2,
       "version_minor": 0
      },
      "text/plain": [
       "Processed prompts:   0%|          | 0/20 [00:00<?, ?it/s, est. speed input: 0.00 toks/s, output: 0.00 toks/s]"
      ]
     },
     "metadata": {},
     "output_type": "display_data"
    },
    {
     "name": "stdout",
     "output_type": "stream",
     "text": [
      "80/151 took 890.602879524231 seconds.\n"
     ]
    },
    {
     "data": {
      "application/vnd.jupyter.widget-view+json": {
       "model_id": "ae636a32375e44d9bc4ca4575bfa32be",
       "version_major": 2,
       "version_minor": 0
      },
      "text/plain": [
       "Processed prompts:   0%|          | 0/20 [00:00<?, ?it/s, est. speed input: 0.00 toks/s, output: 0.00 toks/s]"
      ]
     },
     "metadata": {},
     "output_type": "display_data"
    },
    {
     "name": "stdout",
     "output_type": "stream",
     "text": [
      "100/151 took 1150.5404300689697 seconds.\n"
     ]
    },
    {
     "data": {
      "application/vnd.jupyter.widget-view+json": {
       "model_id": "d6f5f3b4dfc445d7831eb081f3239b52",
       "version_major": 2,
       "version_minor": 0
      },
      "text/plain": [
       "Processed prompts:   0%|          | 0/20 [00:00<?, ?it/s, est. speed input: 0.00 toks/s, output: 0.00 toks/s]"
      ]
     },
     "metadata": {},
     "output_type": "display_data"
    },
    {
     "name": "stdout",
     "output_type": "stream",
     "text": [
      "120/151 took 1402.3997473716736 seconds.\n"
     ]
    },
    {
     "data": {
      "application/vnd.jupyter.widget-view+json": {
       "model_id": "7c14d6630e554692bf28a7efe1016d06",
       "version_major": 2,
       "version_minor": 0
      },
      "text/plain": [
       "Processed prompts:   0%|          | 0/20 [00:00<?, ?it/s, est. speed input: 0.00 toks/s, output: 0.00 toks/s]"
      ]
     },
     "metadata": {},
     "output_type": "display_data"
    },
    {
     "name": "stdout",
     "output_type": "stream",
     "text": [
      "140/151 took 1605.0967671871185 seconds.\n"
     ]
    },
    {
     "data": {
      "application/vnd.jupyter.widget-view+json": {
       "model_id": "096ebfbd027b4357aacc075d95fb45f2",
       "version_major": 2,
       "version_minor": 0
      },
      "text/plain": [
       "Processed prompts:   0%|          | 0/11 [00:00<?, ?it/s, est. speed input: 0.00 toks/s, output: 0.00 toks/s]"
      ]
     },
     "metadata": {},
     "output_type": "display_data"
    },
    {
     "name": "stdout",
     "output_type": "stream",
     "text": [
      "160/151 took 1756.944818019867 seconds.\n",
      "MMLU_college_physics_basic_question\n",
      "151\n",
      "151 dataset max len : 151\n"
     ]
    },
    {
     "data": {
      "application/vnd.jupyter.widget-view+json": {
       "model_id": "c15a1559c2b746a4a9a33c451b23dec8",
       "version_major": 2,
       "version_minor": 0
      },
      "text/plain": [
       "Processed prompts:   0%|          | 0/20 [00:00<?, ?it/s, est. speed input: 0.00 toks/s, output: 0.00 toks/s]"
      ]
     },
     "metadata": {},
     "output_type": "display_data"
    },
    {
     "name": "stdout",
     "output_type": "stream",
     "text": [
      "20/151 took 222.81314420700073 seconds.\n"
     ]
    },
    {
     "data": {
      "application/vnd.jupyter.widget-view+json": {
       "model_id": "0f1c763c54884d40a7e8aea55d7cc46d",
       "version_major": 2,
       "version_minor": 0
      },
      "text/plain": [
       "Processed prompts:   0%|          | 0/20 [00:00<?, ?it/s, est. speed input: 0.00 toks/s, output: 0.00 toks/s]"
      ]
     },
     "metadata": {},
     "output_type": "display_data"
    },
    {
     "name": "stdout",
     "output_type": "stream",
     "text": [
      "40/151 took 445.14030718803406 seconds.\n"
     ]
    },
    {
     "data": {
      "application/vnd.jupyter.widget-view+json": {
       "model_id": "f94d4282d00d414bafcd6f528e109450",
       "version_major": 2,
       "version_minor": 0
      },
      "text/plain": [
       "Processed prompts:   0%|          | 0/20 [00:00<?, ?it/s, est. speed input: 0.00 toks/s, output: 0.00 toks/s]"
      ]
     },
     "metadata": {},
     "output_type": "display_data"
    },
    {
     "name": "stdout",
     "output_type": "stream",
     "text": [
      "60/151 took 673.607099533081 seconds.\n"
     ]
    },
    {
     "data": {
      "application/vnd.jupyter.widget-view+json": {
       "model_id": "90ecb230f6eb4eb7a824955f3201b425",
       "version_major": 2,
       "version_minor": 0
      },
      "text/plain": [
       "Processed prompts:   0%|          | 0/20 [00:00<?, ?it/s, est. speed input: 0.00 toks/s, output: 0.00 toks/s]"
      ]
     },
     "metadata": {},
     "output_type": "display_data"
    },
    {
     "name": "stdout",
     "output_type": "stream",
     "text": [
      "80/151 took 889.8398132324219 seconds.\n"
     ]
    },
    {
     "data": {
      "application/vnd.jupyter.widget-view+json": {
       "model_id": "fa7817a9ed074412aec6a181b18ea312",
       "version_major": 2,
       "version_minor": 0
      },
      "text/plain": [
       "Processed prompts:   0%|          | 0/20 [00:00<?, ?it/s, est. speed input: 0.00 toks/s, output: 0.00 toks/s]"
      ]
     },
     "metadata": {},
     "output_type": "display_data"
    },
    {
     "name": "stdout",
     "output_type": "stream",
     "text": [
      "100/151 took 1153.8450815677643 seconds.\n"
     ]
    },
    {
     "data": {
      "application/vnd.jupyter.widget-view+json": {
       "model_id": "ad57b5df75374d9da32b529183a5ff4d",
       "version_major": 2,
       "version_minor": 0
      },
      "text/plain": [
       "Processed prompts:   0%|          | 0/20 [00:00<?, ?it/s, est. speed input: 0.00 toks/s, output: 0.00 toks/s]"
      ]
     },
     "metadata": {},
     "output_type": "display_data"
    },
    {
     "name": "stdout",
     "output_type": "stream",
     "text": [
      "120/151 took 1404.3813495635986 seconds.\n"
     ]
    },
    {
     "data": {
      "application/vnd.jupyter.widget-view+json": {
       "model_id": "122b7051e83841228a07abc16bdd3816",
       "version_major": 2,
       "version_minor": 0
      },
      "text/plain": [
       "Processed prompts:   0%|          | 0/20 [00:00<?, ?it/s, est. speed input: 0.00 toks/s, output: 0.00 toks/s]"
      ]
     },
     "metadata": {},
     "output_type": "display_data"
    },
    {
     "name": "stdout",
     "output_type": "stream",
     "text": [
      "140/151 took 1618.5586721897125 seconds.\n"
     ]
    },
    {
     "data": {
      "application/vnd.jupyter.widget-view+json": {
       "model_id": "2776b5c9a36b4428848dd635e84758d1",
       "version_major": 2,
       "version_minor": 0
      },
      "text/plain": [
       "Processed prompts:   0%|          | 0/11 [00:00<?, ?it/s, est. speed input: 0.00 toks/s, output: 0.00 toks/s]"
      ]
     },
     "metadata": {},
     "output_type": "display_data"
    },
    {
     "name": "stdout",
     "output_type": "stream",
     "text": [
      "160/151 took 1789.3452005386353 seconds.\n"
     ]
    }
   ],
   "source": [
    "for datasetname in datasets:\n",
    "\n",
    "    print(datasetname)\n",
    "    with open(datasetname + \".json\" , \"r\") as f:\n",
    "        dataset = json.load(f)\n",
    "    print(len(dataset))\n",
    "    \n",
    "    dataset_questions = []\n",
    "    max_len = min(len(dataset), 300)\n",
    "    print(f\"{len(dataset)} dataset max len : {max_len}\")\n",
    "    for i in range(max_len):\n",
    "        dataset_questions.append(dataset[i]['ambiguous question'])\n",
    "\n",
    "    \n",
    "    test_answers_gen_t06 = []\n",
    "    start_t = time.time()\n",
    "    block_size = 20\n",
    "    \n",
    "    for j in range(0, len(dataset_questions), block_size):\n",
    "    # for j in range(0, 1, 1):\n",
    "        cur_questions = dataset_questions[j:j+block_size]\n",
    "        outs = get_multiple_model_answer(cur_questions)\n",
    "        \n",
    "        for k in range(len(cur_questions)):\n",
    "            cur_outs = outs[k].outputs[0].text\n",
    "            test_answers_gen_t06.append(cur_outs)\n",
    "    \n",
    "    \n",
    "        # if j % 50 == 0:\n",
    "        cur_t = time.time()\n",
    "        print(f\"{j+block_size}/{len(dataset_questions)} took {cur_t-start_t} seconds.\" )\n",
    "    with open(f\"qwen3_30b_a3b_{datasetname}_ambiguous_responses_{max_len}.json\", \"w\") as f:\n",
    "        json.dump(test_answers_gen_t06, f)"
   ]
  },
  {
   "cell_type": "code",
   "execution_count": null,
   "id": "a573e342-826f-4ac1-8542-686233c0cf0e",
   "metadata": {},
   "outputs": [],
   "source": []
  }
 ],
 "metadata": {
  "kernelspec": {
   "display_name": "newvllm",
   "language": "python",
   "name": "newvllm"
  },
  "language_info": {
   "codemirror_mode": {
    "name": "ipython",
    "version": 3
   },
   "file_extension": ".py",
   "mimetype": "text/x-python",
   "name": "python",
   "nbconvert_exporter": "python",
   "pygments_lexer": "ipython3",
   "version": "3.10.16"
  }
 },
 "nbformat": 4,
 "nbformat_minor": 5
}
